{
  "nbformat": 4,
  "nbformat_minor": 0,
  "metadata": {
    "colab": {
      "provenance": [],
      "gpuType": "T4"
    },
    "kernelspec": {
      "name": "python3",
      "display_name": "Python 3"
    },
    "language_info": {
      "name": "python"
    },
    "accelerator": "GPU"
  },
  "cells": [
    {
      "cell_type": "code",
      "execution_count": null,
      "metadata": {
        "colab": {
          "base_uri": "https://localhost:8080/"
        },
        "id": "rSyEJwkLDmbj",
        "outputId": "19ed60f7-4951-497a-eab6-88624a5e68bb"
      },
      "outputs": [
        {
          "output_type": "stream",
          "name": "stdout",
          "text": [
            "Mounted at /content/mydrive\n"
          ]
        }
      ],
      "source": [
        "from google.colab import drive\n",
        "drive.mount('/content/mydrive')"
      ]
    },
    {
      "cell_type": "code",
      "source": [
        "!pip install opendatasets"
      ],
      "metadata": {
        "colab": {
          "base_uri": "https://localhost:8080/"
        },
        "id": "Ae06sHaGEN6p",
        "outputId": "76742e0b-23a8-4135-8de7-3ea524780a1b"
      },
      "execution_count": null,
      "outputs": [
        {
          "output_type": "stream",
          "name": "stdout",
          "text": [
            "Collecting opendatasets\n",
            "  Downloading opendatasets-0.1.22-py3-none-any.whl (15 kB)\n",
            "Requirement already satisfied: tqdm in /usr/local/lib/python3.10/dist-packages (from opendatasets) (4.66.1)\n",
            "Requirement already satisfied: kaggle in /usr/local/lib/python3.10/dist-packages (from opendatasets) (1.5.16)\n",
            "Requirement already satisfied: click in /usr/local/lib/python3.10/dist-packages (from opendatasets) (8.1.7)\n",
            "Requirement already satisfied: six>=1.10 in /usr/local/lib/python3.10/dist-packages (from kaggle->opendatasets) (1.16.0)\n",
            "Requirement already satisfied: certifi in /usr/local/lib/python3.10/dist-packages (from kaggle->opendatasets) (2023.11.17)\n",
            "Requirement already satisfied: python-dateutil in /usr/local/lib/python3.10/dist-packages (from kaggle->opendatasets) (2.8.2)\n",
            "Requirement already satisfied: requests in /usr/local/lib/python3.10/dist-packages (from kaggle->opendatasets) (2.31.0)\n",
            "Requirement already satisfied: python-slugify in /usr/local/lib/python3.10/dist-packages (from kaggle->opendatasets) (8.0.1)\n",
            "Requirement already satisfied: urllib3 in /usr/local/lib/python3.10/dist-packages (from kaggle->opendatasets) (2.0.7)\n",
            "Requirement already satisfied: bleach in /usr/local/lib/python3.10/dist-packages (from kaggle->opendatasets) (6.1.0)\n",
            "Requirement already satisfied: webencodings in /usr/local/lib/python3.10/dist-packages (from bleach->kaggle->opendatasets) (0.5.1)\n",
            "Requirement already satisfied: text-unidecode>=1.3 in /usr/local/lib/python3.10/dist-packages (from python-slugify->kaggle->opendatasets) (1.3)\n",
            "Requirement already satisfied: charset-normalizer<4,>=2 in /usr/local/lib/python3.10/dist-packages (from requests->kaggle->opendatasets) (3.3.2)\n",
            "Requirement already satisfied: idna<4,>=2.5 in /usr/local/lib/python3.10/dist-packages (from requests->kaggle->opendatasets) (3.6)\n",
            "Installing collected packages: opendatasets\n",
            "Successfully installed opendatasets-0.1.22\n"
          ]
        }
      ]
    },
    {
      "cell_type": "code",
      "source": [
        "import tensorflow as tf\n",
        "import tensorflow.keras.backend as K\n",
        "from tensorflow.keras import (\n",
        "    layers,\n",
        "    models,\n",
        "    callbacks,\n",
        "    utils,\n",
        "    metrics,\n",
        "    losses,\n",
        "    optimizers,\n",
        "    activations\n",
        ")\n",
        "\n",
        "from scipy.stats import norm\n",
        "import pandas as pd\n",
        "import os\n",
        "import json\n",
        "import re\n",
        "import string\n",
        "import math\n",
        "\n",
        "import matplotlib.pyplot as plt\n",
        "from IPython.display import display, HTML\n",
        "import opendatasets as od\n",
        "import numpy as np"
      ],
      "metadata": {
        "id": "6NkkeReaD3zl"
      },
      "execution_count": null,
      "outputs": []
    },
    {
      "cell_type": "code",
      "source": [
        "VOCAB_SIZE = 10000\n",
        "MAX_LEN = 80\n",
        "EMBEDDING_DIM = 256\n",
        "KEY_DIM = 256\n",
        "N_HEADS = 2\n",
        "FEED_FORWARD_DIM = 256\n",
        "VALIDATION_SPLIT = 0.2\n",
        "SEED = 42\n",
        "LOAD_MODEL = False\n",
        "BATCH_SIZE = 32\n",
        "EPOCHS = 5"
      ],
      "metadata": {
        "id": "LMew1bf9GI2Y"
      },
      "execution_count": null,
      "outputs": []
    },
    {
      "cell_type": "code",
      "source": [
        "path = 'https://www.kaggle.com/datasets/zynicide/wine-reviews'\n",
        "od.download(path,data_dir='./data')"
      ],
      "metadata": {
        "colab": {
          "base_uri": "https://localhost:8080/"
        },
        "id": "bL9GQu-NFmoV",
        "outputId": "d2448c9f-2638-4454-8472-0b8a23ad79b5"
      },
      "execution_count": null,
      "outputs": [
        {
          "output_type": "stream",
          "name": "stdout",
          "text": [
            "Please provide your Kaggle credentials to download this dataset. Learn more: http://bit.ly/kaggle-creds\n",
            "Your Kaggle username: gauravpurwar12\n",
            "Your Kaggle Key: ··········\n",
            "Downloading wine-reviews.zip to ./data/wine-reviews\n"
          ]
        },
        {
          "output_type": "stream",
          "name": "stderr",
          "text": [
            "100%|██████████| 50.9M/50.9M [00:01<00:00, 28.1MB/s]\n"
          ]
        },
        {
          "output_type": "stream",
          "name": "stdout",
          "text": [
            "\n"
          ]
        }
      ]
    },
    {
      "cell_type": "code",
      "source": [
        "with open('/content/data/wine-reviews/winemag-data-130k-v2.json') as json_data:\n",
        "  wine_data = json.load(json_data)"
      ],
      "metadata": {
        "id": "AfMF_if2GPuQ"
      },
      "execution_count": null,
      "outputs": []
    },
    {
      "cell_type": "code",
      "source": [
        "filtered_data = [\n",
        "    \"wine review : \"\n",
        "    + x['country']\n",
        "    + \" : \"\n",
        "    + x['province']\n",
        "    + \" : \"\n",
        "    + x['variety']\n",
        "    + \" : \"\n",
        "    + x['description']\n",
        "    for x in wine_data\n",
        "    if x['country'] is not None\n",
        "    and x['province'] is not None\n",
        "    and x['variety'] is not None\n",
        "    and x['description'] is not None\n",
        "  ]"
      ],
      "metadata": {
        "id": "-zki9q8fGr0a"
      },
      "execution_count": null,
      "outputs": []
    },
    {
      "cell_type": "code",
      "source": [
        "example = filtered_data[25]\n",
        "print(example)"
      ],
      "metadata": {
        "colab": {
          "base_uri": "https://localhost:8080/"
        },
        "id": "HYnT5qkwIVSq",
        "outputId": "a7d807d3-8ad6-4c3d-c0d6-0d22ff73d07c"
      },
      "execution_count": null,
      "outputs": [
        {
          "output_type": "stream",
          "name": "stdout",
          "text": [
            "wine review : US : California : Pinot Noir : Oak and earth intermingle around robust aromas of wet forest floor in this vineyard-designated Pinot that hails from a high-elevation site. Small in production, it offers intense, full-bodied raspberry and blackberry steeped in smoky spice and smooth texture.\n"
          ]
        }
      ]
    },
    {
      "cell_type": "code",
      "source": [
        "# Pad the punctuation, to treat them as separate 'words'\n",
        "def pad_punctuation(s):\n",
        "    s = re.sub(f\"([{string.punctuation}, '\\n'])\", r\" \\1 \", s)\n",
        "    s = re.sub(\" +\", \" \", s)\n",
        "    return s\n"
      ],
      "metadata": {
        "id": "XweJpbDjInz5"
      },
      "execution_count": null,
      "outputs": []
    },
    {
      "cell_type": "code",
      "source": [
        "text_data = [pad_punctuation(x) for x in filtered_data]"
      ],
      "metadata": {
        "id": "TXaQtAS9IpgN"
      },
      "execution_count": null,
      "outputs": []
    },
    {
      "cell_type": "code",
      "source": [
        "text_ds = tf.data.Dataset.from_tensor_slices(text_data).batch(BATCH_SIZE).shuffle(1000)"
      ],
      "metadata": {
        "id": "GIQedx89I6Cy"
      },
      "execution_count": null,
      "outputs": []
    },
    {
      "cell_type": "code",
      "source": [
        "vectorize_layer = layers.TextVectorization(\n",
        "    max_tokens = VOCAB_SIZE,\n",
        "    standardize = 'lower',\n",
        "    output_mode = 'int',\n",
        "    output_sequence_length = MAX_LEN + 1\n",
        ")"
      ],
      "metadata": {
        "id": "vVu8v2CfJdPZ"
      },
      "execution_count": null,
      "outputs": []
    },
    {
      "cell_type": "code",
      "source": [
        "vectorize_layer.adapt(text_ds)\n",
        "vocab = vectorize_layer.get_vocabulary()"
      ],
      "metadata": {
        "id": "CTNseeaUKYAI"
      },
      "execution_count": null,
      "outputs": []
    },
    {
      "cell_type": "code",
      "source": [
        "for i, word in enumerate(vocab[:20]):\n",
        "  print(f'{i}: {word}' )"
      ],
      "metadata": {
        "colab": {
          "base_uri": "https://localhost:8080/"
        },
        "id": "Iy_Pw7jdKu0x",
        "outputId": "198cffd0-ec83-4f29-9c25-936ea189ce89"
      },
      "execution_count": null,
      "outputs": [
        {
          "output_type": "stream",
          "name": "stdout",
          "text": [
            "0: \n",
            "1: [UNK]\n",
            "2: :\n",
            "3: ,\n",
            "4: .\n",
            "5: and\n",
            "6: the\n",
            "7: wine\n",
            "8: a\n",
            "9: of\n",
            "10: review\n",
            "11: with\n",
            "12: this\n",
            "13: is\n",
            "14: -\n",
            "15: it\n",
            "16: flavors\n",
            "17: in\n",
            "18: '\n",
            "19: to\n"
          ]
        }
      ]
    },
    {
      "cell_type": "code",
      "source": [
        "example_tokernised = vectorize_layer(example)\n",
        "print(example_tokernised.numpy())"
      ],
      "metadata": {
        "colab": {
          "base_uri": "https://localhost:8080/"
        },
        "id": "TpFfuYpoLVip",
        "outputId": "0df914ed-554f-4873-e85d-8302c125e0db"
      },
      "execution_count": null,
      "outputs": [
        {
          "output_type": "stream",
          "name": "stdout",
          "text": [
            "[   7   10    2   20    2   29    2   43   62    2   55    5  243 4145\n",
            "  453  634   26    9  497  499  667   17   12    1   43   25 2484   32\n",
            "    8    1    1  594   17    1   15   75    1    1   97    5   74 2633\n",
            "   17  198   49    5  125    1    0    0    0    0    0    0    0    0\n",
            "    0    0    0    0    0    0    0    0    0    0    0    0    0    0\n",
            "    0    0    0    0    0    0    0    0    0    0    0]\n"
          ]
        }
      ]
    },
    {
      "cell_type": "code",
      "source": [
        "def prepare_input(text):\n",
        "  text = tf.expand_dims(text,-1)\n",
        "  tokenized_sentence = vectorize_layer(text)\n",
        "  x = tokenized_sentence[:,:-1]\n",
        "  y = tokenized_sentence[:,1:]\n",
        "  return x,y"
      ],
      "metadata": {
        "id": "ad2xHBIALw-6"
      },
      "execution_count": null,
      "outputs": []
    },
    {
      "cell_type": "code",
      "source": [
        "training_ds= text_ds.map(prepare_input)"
      ],
      "metadata": {
        "id": "-BiAGIegORs1"
      },
      "execution_count": null,
      "outputs": []
    },
    {
      "cell_type": "code",
      "source": [
        "def causal_attention_mask(batch_size, n_dest, n_src, dtype):\n",
        "    i = tf.range(n_dest)[:, None]\n",
        "    j = tf.range(n_src)\n",
        "    m = i >= j - n_src + n_dest\n",
        "    mask = tf.cast(m, dtype)\n",
        "    mask = tf.reshape(mask, [1, n_dest, n_src])\n",
        "    mult = tf.concat(\n",
        "        [tf.expand_dims(batch_size, -1), tf.constant([1, 1], dtype=tf.int32)], 0\n",
        "    )\n",
        "    return tf.tile(mask, mult)\n",
        "\n",
        "\n",
        "np.transpose(causal_attention_mask(1, 10, 10, dtype=tf.int32)[0])"
      ],
      "metadata": {
        "colab": {
          "base_uri": "https://localhost:8080/"
        },
        "id": "BqGusTFpQ9w2",
        "outputId": "bfe0e4db-6b8c-4e17-a58c-c5d5e9dec3bd"
      },
      "execution_count": null,
      "outputs": [
        {
          "output_type": "execute_result",
          "data": {
            "text/plain": [
              "array([[1, 1, 1, 1, 1, 1, 1, 1, 1, 1],\n",
              "       [0, 1, 1, 1, 1, 1, 1, 1, 1, 1],\n",
              "       [0, 0, 1, 1, 1, 1, 1, 1, 1, 1],\n",
              "       [0, 0, 0, 1, 1, 1, 1, 1, 1, 1],\n",
              "       [0, 0, 0, 0, 1, 1, 1, 1, 1, 1],\n",
              "       [0, 0, 0, 0, 0, 1, 1, 1, 1, 1],\n",
              "       [0, 0, 0, 0, 0, 0, 1, 1, 1, 1],\n",
              "       [0, 0, 0, 0, 0, 0, 0, 1, 1, 1],\n",
              "       [0, 0, 0, 0, 0, 0, 0, 0, 1, 1],\n",
              "       [0, 0, 0, 0, 0, 0, 0, 0, 0, 1]], dtype=int32)"
            ]
          },
          "metadata": {},
          "execution_count": 25
        }
      ]
    },
    {
      "cell_type": "code",
      "source": [
        "class TransformerBlock(layers.Layer):\n",
        "  def __init__(self,num_heads, key_dim, embed_dim, ff_dim, dropout_rate=0.1):\n",
        "     super(TransformerBlock, self).__init__()\n",
        "     self.num_heads = num_heads\n",
        "     self.key_dim = key_dim\n",
        "     self.embed_dim = embed_dim\n",
        "     self.ff_dim = ff_dim\n",
        "     self.dropout_rate = dropout_rate\n",
        "     self.att = layers.MultiHeadAttention(num_heads, key_dim, output_shape=embed_dim)\n",
        "     self.dropout_1 = layers.Dropout(self.dropout_rate)\n",
        "     self.dropout_2 = layers.Dropout(self.dropout_rate)\n",
        "     self.ln_1 = layers.LayerNormalization(epsilon=1e-6)\n",
        "     self.ln_2 = layers.LayerNormalization(epsilon=1e-6)\n",
        "     self.ffn_1 = layers.Dense(self.ff_dim, activation='relu')\n",
        "     self.ffn_2 = layers.Dense(self.embed_dim)\n",
        "\n",
        "  def call(self, inputs):\n",
        "    input_shape = tf.shape(inputs)\n",
        "    batch_size = input_shape[0]\n",
        "    seq_len = input_shape[1]\n",
        "    casual_mask = causal_attention_mask(batch_size, seq_len, seq_len, tf.bool)\n",
        "\n",
        "    attention_output, attention_scores = self.att(inputs, inputs, attention_mask = casual_mask, return_attention_scores=True)\n",
        "    attention_output = self.dropout_1(attention_output)\n",
        "    out1 = self.ln_1(attention_output + inputs)\n",
        "    ffn_1 = self.ffn_1(out1)\n",
        "    ffn_2 = self.ffn_2(ffn_1)\n",
        "    ffn_output = self.dropout_2(ffn_2)\n",
        "    out = self.ln_2(out1 + ffn_2)\n",
        "    return out, attention_scores\n",
        "\n",
        "  def get_config(self):\n",
        "        config = super().get_config()\n",
        "        config.update(\n",
        "            {\n",
        "                \"key_dim\": self.key_dim,\n",
        "                \"embed_dim\": self.embed_dim,\n",
        "                \"num_heads\": self.num_heads,\n",
        "                \"ff_dim\": self.ff_dim,\n",
        "                \"dropout_rate\": self.dropout_rate,\n",
        "            }\n",
        "        )\n",
        "        return config"
      ],
      "metadata": {
        "id": "D4KtyB6HSn6a"
      },
      "execution_count": null,
      "outputs": []
    },
    {
      "cell_type": "code",
      "source": [
        "class TextAndPositionEmbedding(layers.Layer):\n",
        "  def __init__(self, maxlen, vocab_size,embed_dim):\n",
        "     super(TextAndPositionEmbedding, self).__init__()\n",
        "\n",
        "     self.maxlen = maxlen\n",
        "     self.vocab_size = vocab_size\n",
        "     self.embed_dim = embed_dim\n",
        "     self.token_emb = layers.Embedding(input_dim=vocab_size, output_dim=embed_dim)\n",
        "     self.pos_emb = layers.Embedding(input_dim=maxlen, output_dim=embed_dim)\n",
        "\n",
        "  def call(self,x):\n",
        "    maxlen = tf.shape(x)[-1]\n",
        "    positions = tf.range(start=0, limit=maxlen, delta=1)\n",
        "    positions = self.pos_emb(positions)\n",
        "    x = self.token_emb(x)\n",
        "    return (x + positions)\n",
        "\n",
        "  def get_config(self):\n",
        "        config = super().get_config()\n",
        "        config.update(\n",
        "            {\n",
        "                \"max_len\": self.maxlen,\n",
        "                \"vocab_size\": self.vocab_size,\n",
        "                \"embed_dim\": self.embed_dim,\n",
        "            }\n",
        "        )\n",
        "        return config\n",
        "\n",
        "\n"
      ],
      "metadata": {
        "id": "te8xpjFEJSpF"
      },
      "execution_count": null,
      "outputs": []
    },
    {
      "cell_type": "code",
      "source": [
        "inputs = layers.Input(shape=(None,), dtype=tf.int32)\n",
        "x = TextAndPositionEmbedding(MAX_LEN, VOCAB_SIZE, EMBEDDING_DIM)(inputs)\n",
        "x, attention_scores  = TransformerBlock(N_HEADS, KEY_DIM, EMBEDDING_DIM, FEED_FORWARD_DIM)(x)\n",
        "output = layers.Dense(VOCAB_SIZE, activation='softmax')(x)\n",
        "gpt = models.Model(inputs=inputs, outputs=[output, attention_scores])\n",
        "gpt.compile('adam', loss=[losses.SparseCategoricalCrossentropy(), None])\n",
        "gpt.summary()\n",
        "#gpt.fit(training_ds, EPOCHS)"
      ],
      "metadata": {
        "colab": {
          "base_uri": "https://localhost:8080/"
        },
        "id": "Sf5xR3YzeXIy",
        "outputId": "d7a6df80-c4a7-4663-f52b-a8c3b1caf7e7"
      },
      "execution_count": null,
      "outputs": [
        {
          "output_type": "stream",
          "name": "stdout",
          "text": [
            "Model: \"model_3\"\n",
            "_________________________________________________________________\n",
            " Layer (type)                Output Shape              Param #   \n",
            "=================================================================\n",
            " input_4 (InputLayer)        [(None, None)]            0         \n",
            "                                                                 \n",
            " text_and_position_embeddin  (None, None, 256)         2580480   \n",
            " g_3 (TextAndPositionEmbedd                                      \n",
            " ing)                                                            \n",
            "                                                                 \n",
            " transformer_block_3 (Trans  ((None, None, 256),       658688    \n",
            " formerBlock)                 (None, 2, None, None))             \n",
            "                                                                 \n",
            " dense_11 (Dense)            (None, None, 10000)       2570000   \n",
            "                                                                 \n",
            "=================================================================\n",
            "Total params: 5809168 (22.16 MB)\n",
            "Trainable params: 5809168 (22.16 MB)\n",
            "Non-trainable params: 0 (0.00 Byte)\n",
            "_________________________________________________________________\n"
          ]
        }
      ]
    },
    {
      "cell_type": "code",
      "source": [
        "tf.keras.utils.plot_model(gpt, to_file='dot_img_file.png', show_shapes=True)"
      ],
      "metadata": {
        "colab": {
          "base_uri": "https://localhost:8080/",
          "height": 421
        },
        "id": "Nc2PrJkdrwfC",
        "outputId": "f3bc1dcf-e592-4e1c-b95d-38b693dc2471"
      },
      "execution_count": null,
      "outputs": [
        {
          "output_type": "execute_result",
          "data": {
            "image/png": "[encoded data removed]",
            "text/plain": [
              "<IPython.core.display.Image object>"
            ]
          },
          "metadata": {},
          "execution_count": 55
        }
      ]
    },
    {
      "cell_type": "code",
      "source": [
        "# Create a TextGenerator checkpoint\n",
        "class TextGenerator(callbacks.Callback):\n",
        "    def __init__(self, index_to_word, top_k=10):\n",
        "        self.index_to_word = index_to_word\n",
        "        self.word_to_index = {\n",
        "            word: index for index, word in enumerate(index_to_word)\n",
        "        }\n",
        "\n",
        "    def sample_from(self, probs, temperature):\n",
        "        probs = probs ** (1 / temperature)\n",
        "        probs = probs / np.sum(probs)\n",
        "        return np.random.choice(len(probs), p=probs), probs\n",
        "\n",
        "    def generate(self, start_prompt, max_tokens, temperature):\n",
        "        start_tokens = [\n",
        "            self.word_to_index.get(x, 1) for x in start_prompt.split()\n",
        "        ]\n",
        "        sample_token = None\n",
        "        info = []\n",
        "        while len(start_tokens) < max_tokens and sample_token != 0:\n",
        "            x = np.array([start_tokens])\n",
        "            y, att = self.model.predict(x, verbose=0)\n",
        "            sample_token, probs = self.sample_from(y[0][-1], temperature)\n",
        "            info.append(\n",
        "                {\n",
        "                    \"prompt\": start_prompt,\n",
        "                    \"word_probs\": probs,\n",
        "                    \"atts\": att[0, :, -1, :],\n",
        "                }\n",
        "            )\n",
        "            start_tokens.append(sample_token)\n",
        "            start_prompt = start_prompt + \" \" + self.index_to_word[sample_token]\n",
        "        print(f\"\\ngenerated text:\\n{start_prompt}\\n\")\n",
        "        return info\n",
        "\n",
        "    def on_epoch_end(self, epoch, logs=None):\n",
        "        self.generate(\"wine review\", max_tokens=80, temperature=1.0)"
      ],
      "metadata": {
        "id": "h9Xe3C5TsUOS"
      },
      "execution_count": null,
      "outputs": []
    },
    {
      "cell_type": "code",
      "source": [
        "model_checkpoint_callbacks = callbacks.ModelCheckpoint(\n",
        "    filepath=\"./checkpoint/checkpoint.ckpt\",\n",
        "    save_weights_only=True,\n",
        "    save_freq=\"epoch\",\n",
        "    verbose=0,\n",
        ")\n",
        "tensorboard_callback = callbacks.TensorBoard(log_dir='./logs')\n",
        "\n",
        "text_generator = TextGenerator(vocab)"
      ],
      "metadata": {
        "id": "TukvMRzZs8Hp"
      },
      "execution_count": null,
      "outputs": []
    },
    {
      "cell_type": "code",
      "source": [
        "gpt.fit(training_ds, epochs= EPOCHS, callbacks=[model_checkpoint_callbacks,tensorboard_callback, text_generator])"
      ],
      "metadata": {
        "colab": {
          "base_uri": "https://localhost:8080/"
        },
        "id": "tQgJXCpPt5_n",
        "outputId": "5066c0a3-ffc8-40cb-aa64-b139b5ca7359"
      },
      "execution_count": null,
      "outputs": [
        {
          "output_type": "stream",
          "name": "stdout",
          "text": [
            "Epoch 1/5\n",
            "4059/4060 [============================>.] - ETA: 0s - loss: 2.2449 - dense_11_loss: 2.2449\n",
            "generated text:\n",
            "wine review : us : california : grenache : [UNK] ' s most attractive perennial rochioli pinot noir , pinot noir , but it starts with thin aromas and flavors that earthy and slightly bitter . \n",
            "\n",
            "4060/4060 [==============================] - 165s 39ms/step - loss: 2.2450 - dense_11_loss: 2.2450\n",
            "Epoch 2/5\n",
            "4059/4060 [============================>.] - ETA: 0s - loss: 1.9501 - dense_11_loss: 1.9501\n",
            "generated text:\n",
            "wine review : france : languedoc - roussillon : rhône - style red blend : a blend made from 60 % grenache , 35 % carignan , 20 % mourvèdre , 20 % syrah , 5 % carignan and 3 % mourvèdre , this offers bright red berry aromas along with savory notes shaded by meld black cherry , mocha and ripe plum . medium tannins feel concentrated and fruit cut through the expressive finish . \n",
            "\n",
            "4060/4060 [==============================] - 129s 32ms/step - loss: 1.9501 - dense_11_loss: 1.9501\n",
            "Epoch 3/5\n",
            "4059/4060 [============================>.] - ETA: 0s - loss: 1.8772 - dense_11_loss: 1.8772\n",
            "generated text:\n",
            "wine review : us : washington : tempranillo : in an elegant style , tart and tart , this shows [UNK] - near - weight mouth - puckering acidity . it ' s astringent and hard as drying , with tart raspberry and lean fruit . \n",
            "\n",
            "4060/4060 [==============================] - 127s 31ms/step - loss: 1.8770 - dense_11_loss: 1.8770\n",
            "Epoch 4/5\n",
            "4059/4060 [============================>.] - ETA: 0s - loss: 1.8334 - dense_11_loss: 1.8334\n",
            "generated text:\n",
            "wine review : portugal : douro : portuguese white : bottled without any muscadet , this is [UNK] character . with intense fruit flavors , the minerality that blend terroir character is higher to its acids , bright character . it is full bodied , the wine has the potential to be ready . drink this wine from 2017 . \n",
            "\n",
            "4060/4060 [==============================] - 127s 31ms/step - loss: 1.8335 - dense_11_loss: 1.8335\n",
            "Epoch 5/5\n",
            "4060/4060 [==============================] - ETA: 0s - loss: 1.8020 - dense_11_loss: 1.8020\n",
            "generated text:\n",
            "wine review : us : washington : red blend : this wine brings aromas of fresh herbs , baking spice , herb , wood and dark fruit followed by lightly tart red - fruit flavors . it brings in barrel accents like their way into a [UNK] wine . good concentration and flavor stands out . \n",
            "\n",
            "4060/4060 [==============================] - 126s 31ms/step - loss: 1.8020 - dense_11_loss: 1.8020\n"
          ]
        },
        {
          "output_type": "execute_result",
          "data": {
            "text/plain": [
              "<keras.src.callbacks.History at 0x7bb5e9999b40>"
            ]
          },
          "metadata": {},
          "execution_count": 42
        }
      ]
    },
    {
      "cell_type": "code",
      "source": [
        "gpt.save('./model/gpt')"
      ],
      "metadata": {
        "id": "9EBf5bk8uKNV"
      },
      "execution_count": null,
      "outputs": []
    },
    {
      "cell_type": "code",
      "source": [
        "os.makedirs('./model/gpt')"
      ],
      "metadata": {
        "id": "7KWlgnrAuSCY"
      },
      "execution_count": null,
      "outputs": []
    },
    {
      "cell_type": "code",
      "source": [
        "info = text_generator.generate('wine review : us :', max_tokens=80, temperature=1.0)"
      ],
      "metadata": {
        "colab": {
          "base_uri": "https://localhost:8080/"
        },
        "id": "2u5e3PBTyNDy",
        "outputId": "b19acaac-9b52-436d-de6e-f42949eff201"
      },
      "execution_count": null,
      "outputs": [
        {
          "output_type": "stream",
          "name": "stdout",
          "text": [
            "\n",
            "generated text:\n",
            "wine review : us : california : malbec : mike sinor [UNK] , [UNK] attention makes this eye - opener for a rising - top example of the vineyard shiraz . it ' s an explosion of plush , plush , ripe plum and blackberry , with black pepper , anise , [UNK] fruit and molasses all accentuated by the vineyard ' s varietal influence . it ' s well integrated on its own , with an intense touch of\n",
            "\n"
          ]
        }
      ]
    },
    {
      "cell_type": "code",
      "source": [
        "info = text_generator.generate(\n",
        "    \"wine review : italy\", max_tokens=80, temperature=0.5\n",
        ")"
      ],
      "metadata": {
        "colab": {
          "base_uri": "https://localhost:8080/"
        },
        "id": "syxwN2iVy3xJ",
        "outputId": "935fa19a-5b0e-4717-8dec-bac54ee55694"
      },
      "execution_count": null,
      "outputs": [
        {
          "output_type": "stream",
          "name": "stdout",
          "text": [
            "\n",
            "generated text:\n",
            "wine review : italy : veneto : glera : a little shy on the nose , the palate offers bartlett pear , white pepper and a hint of white pepper alongside crisp acidity and a hint of bitter almond . \n",
            "\n"
          ]
        }
      ]
    },
    {
      "cell_type": "code",
      "source": [
        "def print_probs(info, vocab, top_k=5):\n",
        "    for i in info:\n",
        "        highlighted_text = []\n",
        "        for word, att_score in zip(\n",
        "            i[\"prompt\"].split(), np.mean(i[\"atts\"], axis=0)\n",
        "        ):\n",
        "            highlighted_text.append(\n",
        "                '<span style=\"background-color:rgba(135,206,250,'\n",
        "                + str(att_score / max(np.mean(i[\"atts\"], axis=0)))\n",
        "                + ');\">'\n",
        "                + word\n",
        "                + \"</span>\"\n",
        "            )\n",
        "        highlighted_text = \" \".join(highlighted_text)\n",
        "        display(HTML(highlighted_text))\n",
        "\n",
        "        word_probs = i[\"word_probs\"]\n",
        "        p_sorted = np.sort(word_probs)[::-1][:top_k]\n",
        "        i_sorted = np.argsort(word_probs)[::-1][:top_k]\n",
        "        for p, i in zip(p_sorted, i_sorted):\n",
        "            print(f\"{vocab[i]}:   \\t{np.round(100*p,2)}%\")\n",
        "        print(\"--------\\n\")"
      ],
      "metadata": {
        "id": "QYYMMVxZzC2N"
      },
      "execution_count": null,
      "outputs": []
    },
    {
      "cell_type": "code",
      "source": [
        "info = text_generator.generate(\n",
        "    \"wine review : germany\", max_tokens=80, temperature=0.5\n",
        ")\n",
        "print_probs(info, vocab)"
      ],
      "metadata": {
        "colab": {
          "base_uri": "https://localhost:8080/",
          "height": 1000
        },
        "id": "2omp8DGRy77j",
        "outputId": "b405bca8-f8be-466a-e33a-6c1ee08427bc"
      },
      "execution_count": null,
      "outputs": [
        {
          "output_type": "stream",
          "name": "stdout",
          "text": [
            "\n",
            "generated text:\n",
            "wine review : germany : mosel : riesling : ripe yellow peaches perfume this bright , juicy , fruity riesling . it ' s juicy and fruity , with a touch of sweetness , but it ' s a shade off - dry , but with a long , citrusy finish . \n",
            "\n"
          ]
        },
        {
          "output_type": "display_data",
          "data": {
            "text/plain": [
              "<IPython.core.display.HTML object>"
            ],
            "text/html": [
              "<span style=\"background-color:rgba(135,206,250,1.0);\">wine</span> <span style=\"background-color:rgba(135,206,250,0.7827834);\">review</span> <span style=\"background-color:rgba(135,206,250,0.77509105);\">:</span> <span style=\"background-color:rgba(135,206,250,0.35684144);\">germany</span>"
            ]
          },
          "metadata": {}
        },
        {
          "output_type": "stream",
          "name": "stdout",
          "text": [
            "::   \t100.0%\n",
            "-:   \t0.0%\n",
            "zealand:   \t0.0%\n",
            "[UNK]:   \t0.0%\n",
            "blanc:   \t0.0%\n",
            "--------\n",
            "\n"
          ]
        },
        {
          "output_type": "display_data",
          "data": {
            "text/plain": [
              "<IPython.core.display.HTML object>"
            ],
            "text/html": [
              "<span style=\"background-color:rgba(135,206,250,0.3270137);\">wine</span> <span style=\"background-color:rgba(135,206,250,0.3786115);\">review</span> <span style=\"background-color:rgba(135,206,250,0.39364374);\">:</span> <span style=\"background-color:rgba(135,206,250,1.0);\">germany</span> <span style=\"background-color:rgba(135,206,250,0.3329355);\">:</span>"
            ]
          },
          "metadata": {}
        },
        {
          "output_type": "stream",
          "name": "stdout",
          "text": [
            "mosel:   \t66.98%\n",
            "pfalz:   \t16.48%\n",
            "rheingau:   \t14.07%\n",
            "nahe:   \t1.13%\n",
            "rheinhessen:   \t1.06%\n",
            "--------\n",
            "\n"
          ]
        },
        {
          "output_type": "display_data",
          "data": {
            "text/plain": [
              "<IPython.core.display.HTML object>"
            ],
            "text/html": [
              "<span style=\"background-color:rgba(135,206,250,1.0);\">wine</span> <span style=\"background-color:rgba(135,206,250,0.8294917);\">review</span> <span style=\"background-color:rgba(135,206,250,0.7840549);\">:</span> <span style=\"background-color:rgba(135,206,250,0.21514103);\">germany</span> <span style=\"background-color:rgba(135,206,250,0.64596677);\">:</span> <span style=\"background-color:rgba(135,206,250,0.3152849);\">mosel</span>"
            ]
          },
          "metadata": {}
        },
        {
          "output_type": "stream",
          "name": "stdout",
          "text": [
            "::   \t99.55%\n",
            "-:   \t0.45%\n",
            "in:   \t0.0%\n",
            ".:   \t0.0%\n",
            "to:   \t0.0%\n",
            "--------\n",
            "\n"
          ]
        },
        {
          "output_type": "display_data",
          "data": {
            "text/plain": [
              "<IPython.core.display.HTML object>"
            ],
            "text/html": [
              "<span style=\"background-color:rgba(135,206,250,0.24521478);\">wine</span> <span style=\"background-color:rgba(135,206,250,0.2346769);\">review</span> <span style=\"background-color:rgba(135,206,250,0.22558098);\">:</span> <span style=\"background-color:rgba(135,206,250,0.35568872);\">germany</span> <span style=\"background-color:rgba(135,206,250,0.1347725);\">:</span> <span style=\"background-color:rgba(135,206,250,1.0);\">mosel</span> <span style=\"background-color:rgba(135,206,250,0.16082156);\">:</span>"
            ]
          },
          "metadata": {}
        },
        {
          "output_type": "stream",
          "name": "stdout",
          "text": [
            "riesling:   \t99.99%\n",
            "pinot:   \t0.01%\n",
            "weissburgunder:   \t0.0%\n",
            "sparkling:   \t0.0%\n",
            "spätburgunder:   \t0.0%\n",
            "--------\n",
            "\n"
          ]
        },
        {
          "output_type": "display_data",
          "data": {
            "text/plain": [
              "<IPython.core.display.HTML object>"
            ],
            "text/html": [
              "<span style=\"background-color:rgba(135,206,250,0.8271754);\">wine</span> <span style=\"background-color:rgba(135,206,250,1.0);\">review</span> <span style=\"background-color:rgba(135,206,250,0.6831659);\">:</span> <span style=\"background-color:rgba(135,206,250,0.23011991);\">germany</span> <span style=\"background-color:rgba(135,206,250,0.4995762);\">:</span> <span style=\"background-color:rgba(135,206,250,0.5891197);\">mosel</span> <span style=\"background-color:rgba(135,206,250,0.54108995);\">:</span> <span style=\"background-color:rgba(135,206,250,0.15108055);\">riesling</span>"
            ]
          },
          "metadata": {}
        },
        {
          "output_type": "stream",
          "name": "stdout",
          "text": [
            "::   \t100.0%\n",
            "-:   \t0.0%\n",
            "blend:   \t0.0%\n",
            ",:   \t0.0%\n",
            ".:   \t0.0%\n",
            "--------\n",
            "\n"
          ]
        },
        {
          "output_type": "display_data",
          "data": {
            "text/plain": [
              "<IPython.core.display.HTML object>"
            ],
            "text/html": [
              "<span style=\"background-color:rgba(135,206,250,0.7960681);\">wine</span> <span style=\"background-color:rgba(135,206,250,0.74807817);\">review</span> <span style=\"background-color:rgba(135,206,250,0.56545734);\">:</span> <span style=\"background-color:rgba(135,206,250,0.71914476);\">germany</span> <span style=\"background-color:rgba(135,206,250,0.40158644);\">:</span> <span style=\"background-color:rgba(135,206,250,1.0);\">mosel</span> <span style=\"background-color:rgba(135,206,250,0.47359988);\">:</span> <span style=\"background-color:rgba(135,206,250,0.77402);\">riesling</span> <span style=\"background-color:rgba(135,206,250,0.6158524);\">:</span>"
            ]
          },
          "metadata": {}
        },
        {
          "output_type": "stream",
          "name": "stdout",
          "text": [
            "a:   \t38.07%\n",
            "while:   \t12.19%\n",
            "this:   \t9.8%\n",
            "whiffs:   \t9.44%\n",
            "fresh:   \t5.37%\n",
            "--------\n",
            "\n"
          ]
        },
        {
          "output_type": "display_data",
          "data": {
            "text/plain": [
              "<IPython.core.display.HTML object>"
            ],
            "text/html": [
              "<span style=\"background-color:rgba(135,206,250,1.0);\">wine</span> <span style=\"background-color:rgba(135,206,250,0.7810332);\">review</span> <span style=\"background-color:rgba(135,206,250,0.35012972);\">:</span> <span style=\"background-color:rgba(135,206,250,0.5040141);\">germany</span> <span style=\"background-color:rgba(135,206,250,0.3127809);\">:</span> <span style=\"background-color:rgba(135,206,250,0.39113882);\">mosel</span> <span style=\"background-color:rgba(135,206,250,0.25470677);\">:</span> <span style=\"background-color:rgba(135,206,250,0.55375504);\">riesling</span> <span style=\"background-color:rgba(135,206,250,0.3909596);\">:</span> <span style=\"background-color:rgba(135,206,250,0.38213095);\">ripe</span>"
            ]
          },
          "metadata": {}
        },
        {
          "output_type": "stream",
          "name": "stdout",
          "text": [
            ",:   \t31.79%\n",
            "yellow:   \t23.6%\n",
            "and:   \t13.86%\n",
            "peach:   \t11.53%\n",
            "apple:   \t7.15%\n",
            "--------\n",
            "\n"
          ]
        },
        {
          "output_type": "display_data",
          "data": {
            "text/plain": [
              "<IPython.core.display.HTML object>"
            ],
            "text/html": [
              "<span style=\"background-color:rgba(135,206,250,1.0);\">wine</span> <span style=\"background-color:rgba(135,206,250,0.89479893);\">review</span> <span style=\"background-color:rgba(135,206,250,0.37130985);\">:</span> <span style=\"background-color:rgba(135,206,250,0.3958366);\">germany</span> <span style=\"background-color:rgba(135,206,250,0.34976563);\">:</span> <span style=\"background-color:rgba(135,206,250,0.37344244);\">mosel</span> <span style=\"background-color:rgba(135,206,250,0.32306153);\">:</span> <span style=\"background-color:rgba(135,206,250,0.37984577);\">riesling</span> <span style=\"background-color:rgba(135,206,250,0.4052224);\">:</span> <span style=\"background-color:rgba(135,206,250,0.87952524);\">ripe</span> <span style=\"background-color:rgba(135,206,250,0.5679624);\">yellow</span>"
            ]
          },
          "metadata": {}
        },
        {
          "output_type": "stream",
          "name": "stdout",
          "text": [
            "peaches:   \t30.91%\n",
            "peach:   \t28.7%\n",
            "plum:   \t22.38%\n",
            "-:   \t7.35%\n",
            "cherry:   \t6.12%\n",
            "--------\n",
            "\n"
          ]
        },
        {
          "output_type": "display_data",
          "data": {
            "text/plain": [
              "<IPython.core.display.HTML object>"
            ],
            "text/html": [
              "<span style=\"background-color:rgba(135,206,250,0.730741);\">wine</span> <span style=\"background-color:rgba(135,206,250,1.0);\">review</span> <span style=\"background-color:rgba(135,206,250,0.37582937);\">:</span> <span style=\"background-color:rgba(135,206,250,0.4442403);\">germany</span> <span style=\"background-color:rgba(135,206,250,0.3882444);\">:</span> <span style=\"background-color:rgba(135,206,250,0.19576709);\">mosel</span> <span style=\"background-color:rgba(135,206,250,0.2504227);\">:</span> <span style=\"background-color:rgba(135,206,250,0.13034031);\">riesling</span> <span style=\"background-color:rgba(135,206,250,0.5057989);\">:</span> <span style=\"background-color:rgba(135,206,250,0.5205232);\">ripe</span> <span style=\"background-color:rgba(135,206,250,0.20069323);\">yellow</span> <span style=\"background-color:rgba(135,206,250,0.6884694);\">peaches</span>"
            ]
          },
          "metadata": {}
        },
        {
          "output_type": "stream",
          "name": "stdout",
          "text": [
            "and:   \t97.69%\n",
            ",:   \t1.21%\n",
            "abound:   \t1.0%\n",
            "perfume:   \t0.04%\n",
            "on:   \t0.01%\n",
            "--------\n",
            "\n"
          ]
        },
        {
          "output_type": "display_data",
          "data": {
            "text/plain": [
              "<IPython.core.display.HTML object>"
            ],
            "text/html": [
              "<span style=\"background-color:rgba(135,206,250,0.66289854);\">wine</span> <span style=\"background-color:rgba(135,206,250,1.0);\">review</span> <span style=\"background-color:rgba(135,206,250,0.36782426);\">:</span> <span style=\"background-color:rgba(135,206,250,0.27308062);\">germany</span> <span style=\"background-color:rgba(135,206,250,0.33818138);\">:</span> <span style=\"background-color:rgba(135,206,250,0.14917219);\">mosel</span> <span style=\"background-color:rgba(135,206,250,0.20850112);\">:</span> <span style=\"background-color:rgba(135,206,250,0.13143718);\">riesling</span> <span style=\"background-color:rgba(135,206,250,0.38268074);\">:</span> <span style=\"background-color:rgba(135,206,250,0.2037642);\">ripe</span> <span style=\"background-color:rgba(135,206,250,0.24071586);\">yellow</span> <span style=\"background-color:rgba(135,206,250,0.7406899);\">peaches</span> <span style=\"background-color:rgba(135,206,250,0.42874357);\">perfume</span>"
            ]
          },
          "metadata": {}
        },
        {
          "output_type": "stream",
          "name": "stdout",
          "text": [
            "this:   \t85.94%\n",
            "and:   \t12.26%\n",
            "the:   \t1.48%\n",
            ",:   \t0.21%\n",
            "on:   \t0.03%\n",
            "--------\n",
            "\n"
          ]
        },
        {
          "output_type": "display_data",
          "data": {
            "text/plain": [
              "<IPython.core.display.HTML object>"
            ],
            "text/html": [
              "<span style=\"background-color:rgba(135,206,250,0.6283698);\">wine</span> <span style=\"background-color:rgba(135,206,250,1.0);\">review</span> <span style=\"background-color:rgba(135,206,250,0.5084783);\">:</span> <span style=\"background-color:rgba(135,206,250,0.88845557);\">germany</span> <span style=\"background-color:rgba(135,206,250,0.37161872);\">:</span> <span style=\"background-color:rgba(135,206,250,0.6561631);\">mosel</span> <span style=\"background-color:rgba(135,206,250,0.2669676);\">:</span> <span style=\"background-color:rgba(135,206,250,0.6275641);\">riesling</span> <span style=\"background-color:rgba(135,206,250,0.4110942);\">:</span> <span style=\"background-color:rgba(135,206,250,0.7607847);\">ripe</span> <span style=\"background-color:rgba(135,206,250,0.48340848);\">yellow</span> <span style=\"background-color:rgba(135,206,250,0.87223345);\">peaches</span> <span style=\"background-color:rgba(135,206,250,0.9930004);\">perfume</span> <span style=\"background-color:rgba(135,206,250,0.47787175);\">this</span>"
            ]
          },
          "metadata": {}
        },
        {
          "output_type": "stream",
          "name": "stdout",
          "text": [
            "intensely:   \t11.54%\n",
            "sunny:   \t10.79%\n",
            "full:   \t10.62%\n",
            "wine:   \t4.44%\n",
            "lush:   \t4.25%\n",
            "--------\n",
            "\n"
          ]
        },
        {
          "output_type": "display_data",
          "data": {
            "text/plain": [
              "<IPython.core.display.HTML object>"
            ],
            "text/html": [
              "<span style=\"background-color:rgba(135,206,250,0.35856965);\">wine</span> <span style=\"background-color:rgba(135,206,250,0.426406);\">review</span> <span style=\"background-color:rgba(135,206,250,0.19651966);\">:</span> <span style=\"background-color:rgba(135,206,250,0.39734274);\">germany</span> <span style=\"background-color:rgba(135,206,250,0.16630441);\">:</span> <span style=\"background-color:rgba(135,206,250,0.32030085);\">mosel</span> <span style=\"background-color:rgba(135,206,250,0.13831018);\">:</span> <span style=\"background-color:rgba(135,206,250,0.39874583);\">riesling</span> <span style=\"background-color:rgba(135,206,250,0.2017512);\">:</span> <span style=\"background-color:rgba(135,206,250,0.18788634);\">ripe</span> <span style=\"background-color:rgba(135,206,250,0.28584164);\">yellow</span> <span style=\"background-color:rgba(135,206,250,0.9276909);\">peaches</span> <span style=\"background-color:rgba(135,206,250,0.44211817);\">perfume</span> <span style=\"background-color:rgba(135,206,250,1.0);\">this</span> <span style=\"background-color:rgba(135,206,250,0.31186405);\">bright</span>"
            ]
          },
          "metadata": {}
        },
        {
          "output_type": "stream",
          "name": "stdout",
          "text": [
            ",:   \t90.33%\n",
            "and:   \t9.52%\n",
            "yet:   \t0.09%\n",
            "riesling:   \t0.01%\n",
            "off:   \t0.01%\n",
            "--------\n",
            "\n"
          ]
        },
        {
          "output_type": "display_data",
          "data": {
            "text/plain": [
              "<IPython.core.display.HTML object>"
            ],
            "text/html": [
              "<span style=\"background-color:rgba(135,206,250,0.31637537);\">wine</span> <span style=\"background-color:rgba(135,206,250,0.6013359);\">review</span> <span style=\"background-color:rgba(135,206,250,0.23789497);\">:</span> <span style=\"background-color:rgba(135,206,250,0.44812587);\">germany</span> <span style=\"background-color:rgba(135,206,250,0.14906123);\">:</span> <span style=\"background-color:rgba(135,206,250,0.21144274);\">mosel</span> <span style=\"background-color:rgba(135,206,250,0.10952529);\">:</span> <span style=\"background-color:rgba(135,206,250,0.36678997);\">riesling</span> <span style=\"background-color:rgba(135,206,250,0.18108407);\">:</span> <span style=\"background-color:rgba(135,206,250,0.34502086);\">ripe</span> <span style=\"background-color:rgba(135,206,250,0.329592);\">yellow</span> <span style=\"background-color:rgba(135,206,250,0.7280397);\">peaches</span> <span style=\"background-color:rgba(135,206,250,0.70156306);\">perfume</span> <span style=\"background-color:rgba(135,206,250,0.82462436);\">this</span> <span style=\"background-color:rgba(135,206,250,1.0);\">bright</span> <span style=\"background-color:rgba(135,206,250,0.41092372);\">,</span>"
            ]
          },
          "metadata": {}
        },
        {
          "output_type": "stream",
          "name": "stdout",
          "text": [
            "juicy:   \t37.21%\n",
            "fruity:   \t16.01%\n",
            "vivacious:   \t12.09%\n",
            "fresh:   \t10.62%\n",
            "blossomy:   \t6.3%\n",
            "--------\n",
            "\n"
          ]
        },
        {
          "output_type": "display_data",
          "data": {
            "text/plain": [
              "<IPython.core.display.HTML object>"
            ],
            "text/html": [
              "<span style=\"background-color:rgba(135,206,250,0.39110553);\">wine</span> <span style=\"background-color:rgba(135,206,250,0.49503043);\">review</span> <span style=\"background-color:rgba(135,206,250,0.24923757);\">:</span> <span style=\"background-color:rgba(135,206,250,0.4781179);\">germany</span> <span style=\"background-color:rgba(135,206,250,0.19522285);\">:</span> <span style=\"background-color:rgba(135,206,250,0.3673494);\">mosel</span> <span style=\"background-color:rgba(135,206,250,0.17604654);\">:</span> <span style=\"background-color:rgba(135,206,250,0.61598575);\">riesling</span> <span style=\"background-color:rgba(135,206,250,0.22956112);\">:</span> <span style=\"background-color:rgba(135,206,250,0.24853529);\">ripe</span> <span style=\"background-color:rgba(135,206,250,0.35021758);\">yellow</span> <span style=\"background-color:rgba(135,206,250,0.958382);\">peaches</span> <span style=\"background-color:rgba(135,206,250,0.5450689);\">perfume</span> <span style=\"background-color:rgba(135,206,250,1.0);\">this</span> <span style=\"background-color:rgba(135,206,250,0.41459346);\">bright</span> <span style=\"background-color:rgba(135,206,250,0.79080474);\">,</span> <span style=\"background-color:rgba(135,206,250,0.47783744);\">juicy</span>"
            ]
          },
          "metadata": {}
        },
        {
          "output_type": "stream",
          "name": "stdout",
          "text": [
            ",:   \t66.85%\n",
            "and:   \t26.18%\n",
            "wine:   \t2.5%\n",
            "riesling:   \t0.97%\n",
            "white:   \t0.79%\n",
            "--------\n",
            "\n"
          ]
        },
        {
          "output_type": "display_data",
          "data": {
            "text/plain": [
              "<IPython.core.display.HTML object>"
            ],
            "text/html": [
              "<span style=\"background-color:rgba(135,206,250,0.20872574);\">wine</span> <span style=\"background-color:rgba(135,206,250,0.45653036);\">review</span> <span style=\"background-color:rgba(135,206,250,0.18247433);\">:</span> <span style=\"background-color:rgba(135,206,250,0.3771241);\">germany</span> <span style=\"background-color:rgba(135,206,250,0.1174702);\">:</span> <span style=\"background-color:rgba(135,206,250,0.15938784);\">mosel</span> <span style=\"background-color:rgba(135,206,250,0.08319775);\">:</span> <span style=\"background-color:rgba(135,206,250,0.2886696);\">riesling</span> <span style=\"background-color:rgba(135,206,250,0.13055888);\">:</span> <span style=\"background-color:rgba(135,206,250,0.21968937);\">ripe</span> <span style=\"background-color:rgba(135,206,250,0.2139849);\">yellow</span> <span style=\"background-color:rgba(135,206,250,0.38001668);\">peaches</span> <span style=\"background-color:rgba(135,206,250,0.37111646);\">perfume</span> <span style=\"background-color:rgba(135,206,250,0.44641548);\">this</span> <span style=\"background-color:rgba(135,206,250,0.47381657);\">bright</span> <span style=\"background-color:rgba(135,206,250,0.20379408);\">,</span> <span style=\"background-color:rgba(135,206,250,1.0);\">juicy</span> <span style=\"background-color:rgba(135,206,250,0.37234434);\">,</span>"
            ]
          },
          "metadata": {}
        },
        {
          "output_type": "stream",
          "name": "stdout",
          "text": [
            "fruity:   \t52.47%\n",
            "fresh:   \t22.54%\n",
            "juicy:   \t5.48%\n",
            "vivacious:   \t2.5%\n",
            "fruit:   \t2.28%\n",
            "--------\n",
            "\n"
          ]
        },
        {
          "output_type": "display_data",
          "data": {
            "text/plain": [
              "<IPython.core.display.HTML object>"
            ],
            "text/html": [
              "<span style=\"background-color:rgba(135,206,250,0.37585235);\">wine</span> <span style=\"background-color:rgba(135,206,250,0.5934921);\">review</span> <span style=\"background-color:rgba(135,206,250,0.25968108);\">:</span> <span style=\"background-color:rgba(135,206,250,0.37310365);\">germany</span> <span style=\"background-color:rgba(135,206,250,0.24551187);\">:</span> <span style=\"background-color:rgba(135,206,250,0.2689052);\">mosel</span> <span style=\"background-color:rgba(135,206,250,0.19044617);\">:</span> <span style=\"background-color:rgba(135,206,250,0.42014205);\">riesling</span> <span style=\"background-color:rgba(135,206,250,0.23285623);\">:</span> <span style=\"background-color:rgba(135,206,250,0.14185366);\">ripe</span> <span style=\"background-color:rgba(135,206,250,0.18041232);\">yellow</span> <span style=\"background-color:rgba(135,206,250,0.40060562);\">peaches</span> <span style=\"background-color:rgba(135,206,250,0.34306157);\">perfume</span> <span style=\"background-color:rgba(135,206,250,0.6386162);\">this</span> <span style=\"background-color:rgba(135,206,250,0.2567291);\">bright</span> <span style=\"background-color:rgba(135,206,250,0.51783925);\">,</span> <span style=\"background-color:rgba(135,206,250,0.2738265);\">juicy</span> <span style=\"background-color:rgba(135,206,250,1.0);\">,</span> <span style=\"background-color:rgba(135,206,250,0.42735502);\">fruity</span>"
            ]
          },
          "metadata": {}
        },
        {
          "output_type": "stream",
          "name": "stdout",
          "text": [
            "riesling:   \t90.31%\n",
            "wine:   \t8.98%\n",
            "and:   \t0.45%\n",
            "kabinett:   \t0.08%\n",
            ",:   \t0.06%\n",
            "--------\n",
            "\n"
          ]
        },
        {
          "output_type": "display_data",
          "data": {
            "text/plain": [
              "<IPython.core.display.HTML object>"
            ],
            "text/html": [
              "<span style=\"background-color:rgba(135,206,250,0.35352907);\">wine</span> <span style=\"background-color:rgba(135,206,250,1.0);\">review</span> <span style=\"background-color:rgba(135,206,250,0.43168533);\">:</span> <span style=\"background-color:rgba(135,206,250,0.25489405);\">germany</span> <span style=\"background-color:rgba(135,206,250,0.27757627);\">:</span> <span style=\"background-color:rgba(135,206,250,0.15825988);\">mosel</span> <span style=\"background-color:rgba(135,206,250,0.21647829);\">:</span> <span style=\"background-color:rgba(135,206,250,0.1592232);\">riesling</span> <span style=\"background-color:rgba(135,206,250,0.27877977);\">:</span> <span style=\"background-color:rgba(135,206,250,0.1945714);\">ripe</span> <span style=\"background-color:rgba(135,206,250,0.09316683);\">yellow</span> <span style=\"background-color:rgba(135,206,250,0.22226211);\">peaches</span> <span style=\"background-color:rgba(135,206,250,0.6463461);\">perfume</span> <span style=\"background-color:rgba(135,206,250,0.5123264);\">this</span> <span style=\"background-color:rgba(135,206,250,0.2974489);\">bright</span> <span style=\"background-color:rgba(135,206,250,0.582259);\">,</span> <span style=\"background-color:rgba(135,206,250,0.40627798);\">juicy</span> <span style=\"background-color:rgba(135,206,250,0.92657006);\">,</span> <span style=\"background-color:rgba(135,206,250,0.60752815);\">fruity</span> <span style=\"background-color:rgba(135,206,250,0.33357525);\">riesling</span>"
            ]
          },
          "metadata": {}
        },
        {
          "output_type": "stream",
          "name": "stdout",
          "text": [
            ".:   \t99.72%\n",
            "from:   \t0.09%\n",
            "and:   \t0.07%\n",
            "full:   \t0.04%\n",
            "that:   \t0.03%\n",
            "--------\n",
            "\n"
          ]
        },
        {
          "output_type": "display_data",
          "data": {
            "text/plain": [
              "<IPython.core.display.HTML object>"
            ],
            "text/html": [
              "<span style=\"background-color:rgba(135,206,250,0.7058575);\">wine</span> <span style=\"background-color:rgba(135,206,250,1.0);\">review</span> <span style=\"background-color:rgba(135,206,250,0.9414226);\">:</span> <span style=\"background-color:rgba(135,206,250,0.7287084);\">germany</span> <span style=\"background-color:rgba(135,206,250,0.71206135);\">:</span> <span style=\"background-color:rgba(135,206,250,0.5208898);\">mosel</span> <span style=\"background-color:rgba(135,206,250,0.43915218);\">:</span> <span style=\"background-color:rgba(135,206,250,0.7236615);\">riesling</span> <span style=\"background-color:rgba(135,206,250,0.44795734);\">:</span> <span style=\"background-color:rgba(135,206,250,0.30327916);\">ripe</span> <span style=\"background-color:rgba(135,206,250,0.30874264);\">yellow</span> <span style=\"background-color:rgba(135,206,250,0.53391385);\">peaches</span> <span style=\"background-color:rgba(135,206,250,0.46830535);\">perfume</span> <span style=\"background-color:rgba(135,206,250,0.6439945);\">this</span> <span style=\"background-color:rgba(135,206,250,0.39900613);\">bright</span> <span style=\"background-color:rgba(135,206,250,0.29580128);\">,</span> <span style=\"background-color:rgba(135,206,250,0.4022728);\">juicy</span> <span style=\"background-color:rgba(135,206,250,0.3655473);\">,</span> <span style=\"background-color:rgba(135,206,250,0.543066);\">fruity</span> <span style=\"background-color:rgba(135,206,250,0.7951944);\">riesling</span> <span style=\"background-color:rgba(135,206,250,0.9465216);\">.</span>"
            ]
          },
          "metadata": {}
        },
        {
          "output_type": "stream",
          "name": "stdout",
          "text": [
            "it:   \t85.54%\n",
            "the:   \t8.09%\n",
            "a:   \t2.33%\n",
            "off:   \t1.0%\n",
            "while:   \t0.7%\n",
            "--------\n",
            "\n"
          ]
        },
        {
          "output_type": "display_data",
          "data": {
            "text/plain": [
              "<IPython.core.display.HTML object>"
            ],
            "text/html": [
              "<span style=\"background-color:rgba(135,206,250,0.08826809);\">wine</span> <span style=\"background-color:rgba(135,206,250,0.16689171);\">review</span> <span style=\"background-color:rgba(135,206,250,0.07489044);\">:</span> <span style=\"background-color:rgba(135,206,250,0.25287113);\">germany</span> <span style=\"background-color:rgba(135,206,250,0.07957454);\">:</span> <span style=\"background-color:rgba(135,206,250,0.10408637);\">mosel</span> <span style=\"background-color:rgba(135,206,250,0.049725793);\">:</span> <span style=\"background-color:rgba(135,206,250,0.076063156);\">riesling</span> <span style=\"background-color:rgba(135,206,250,0.06973056);\">:</span> <span style=\"background-color:rgba(135,206,250,0.06934732);\">ripe</span> <span style=\"background-color:rgba(135,206,250,0.054841332);\">yellow</span> <span style=\"background-color:rgba(135,206,250,0.15324086);\">peaches</span> <span style=\"background-color:rgba(135,206,250,0.13292062);\">perfume</span> <span style=\"background-color:rgba(135,206,250,0.060909502);\">this</span> <span style=\"background-color:rgba(135,206,250,0.089162685);\">bright</span> <span style=\"background-color:rgba(135,206,250,0.105600946);\">,</span> <span style=\"background-color:rgba(135,206,250,0.13952094);\">juicy</span> <span style=\"background-color:rgba(135,206,250,0.18210411);\">,</span> <span style=\"background-color:rgba(135,206,250,0.21656758);\">fruity</span> <span style=\"background-color:rgba(135,206,250,0.17755677);\">riesling</span> <span style=\"background-color:rgba(135,206,250,1.0);\">.</span> <span style=\"background-color:rgba(135,206,250,0.19948387);\">it</span>"
            ]
          },
          "metadata": {}
        },
        {
          "output_type": "stream",
          "name": "stdout",
          "text": [
            "':   \t99.99%\n",
            "finishes:   \t0.01%\n",
            "is:   \t0.0%\n",
            "offers:   \t0.0%\n",
            "has:   \t0.0%\n",
            "--------\n",
            "\n"
          ]
        },
        {
          "output_type": "display_data",
          "data": {
            "text/plain": [
              "<IPython.core.display.HTML object>"
            ],
            "text/html": [
              "<span style=\"background-color:rgba(135,206,250,0.18241285);\">wine</span> <span style=\"background-color:rgba(135,206,250,0.18525994);\">review</span> <span style=\"background-color:rgba(135,206,250,0.21049234);\">:</span> <span style=\"background-color:rgba(135,206,250,0.14135785);\">germany</span> <span style=\"background-color:rgba(135,206,250,0.14506249);\">:</span> <span style=\"background-color:rgba(135,206,250,0.1722362);\">mosel</span> <span style=\"background-color:rgba(135,206,250,0.108837746);\">:</span> <span style=\"background-color:rgba(135,206,250,0.10702954);\">riesling</span> <span style=\"background-color:rgba(135,206,250,0.09811939);\">:</span> <span style=\"background-color:rgba(135,206,250,0.08523204);\">ripe</span> <span style=\"background-color:rgba(135,206,250,0.054604698);\">yellow</span> <span style=\"background-color:rgba(135,206,250,0.079018466);\">peaches</span> <span style=\"background-color:rgba(135,206,250,0.09360502);\">perfume</span> <span style=\"background-color:rgba(135,206,250,0.09346267);\">this</span> <span style=\"background-color:rgba(135,206,250,0.07357086);\">bright</span> <span style=\"background-color:rgba(135,206,250,0.09811487);\">,</span> <span style=\"background-color:rgba(135,206,250,0.1142401);\">juicy</span> <span style=\"background-color:rgba(135,206,250,0.14130878);\">,</span> <span style=\"background-color:rgba(135,206,250,0.17659563);\">fruity</span> <span style=\"background-color:rgba(135,206,250,0.36402932);\">riesling</span> <span style=\"background-color:rgba(135,206,250,0.7266078);\">.</span> <span style=\"background-color:rgba(135,206,250,1.0);\">it</span> <span style=\"background-color:rgba(135,206,250,0.20195018);\">'</span>"
            ]
          },
          "metadata": {}
        },
        {
          "output_type": "stream",
          "name": "stdout",
          "text": [
            "s:   \t100.0%\n",
            "ll:   \t0.0%\n",
            "d:   \t0.0%\n",
            "[UNK]:   \t0.0%\n",
            "entry:   \t0.0%\n",
            "--------\n",
            "\n"
          ]
        },
        {
          "output_type": "display_data",
          "data": {
            "text/plain": [
              "<IPython.core.display.HTML object>"
            ],
            "text/html": [
              "<span style=\"background-color:rgba(135,206,250,0.15714785);\">wine</span> <span style=\"background-color:rgba(135,206,250,0.23642525);\">review</span> <span style=\"background-color:rgba(135,206,250,0.14481509);\">:</span> <span style=\"background-color:rgba(135,206,250,0.2818938);\">germany</span> <span style=\"background-color:rgba(135,206,250,0.09786388);\">:</span> <span style=\"background-color:rgba(135,206,250,0.16201967);\">mosel</span> <span style=\"background-color:rgba(135,206,250,0.06592387);\">:</span> <span style=\"background-color:rgba(135,206,250,0.20566303);\">riesling</span> <span style=\"background-color:rgba(135,206,250,0.10972482);\">:</span> <span style=\"background-color:rgba(135,206,250,0.15839395);\">ripe</span> <span style=\"background-color:rgba(135,206,250,0.1010733);\">yellow</span> <span style=\"background-color:rgba(135,206,250,0.15178253);\">peaches</span> <span style=\"background-color:rgba(135,206,250,0.14407298);\">perfume</span> <span style=\"background-color:rgba(135,206,250,0.09947923);\">this</span> <span style=\"background-color:rgba(135,206,250,0.1425711);\">bright</span> <span style=\"background-color:rgba(135,206,250,0.09995134);\">,</span> <span style=\"background-color:rgba(135,206,250,0.14505348);\">juicy</span> <span style=\"background-color:rgba(135,206,250,0.15624052);\">,</span> <span style=\"background-color:rgba(135,206,250,0.2677777);\">fruity</span> <span style=\"background-color:rgba(135,206,250,0.29680702);\">riesling</span> <span style=\"background-color:rgba(135,206,250,1.0);\">.</span> <span style=\"background-color:rgba(135,206,250,0.835032);\">it</span> <span style=\"background-color:rgba(135,206,250,0.12308385);\">'</span> <span style=\"background-color:rgba(135,206,250,0.1490295);\">s</span>"
            ]
          },
          "metadata": {}
        },
        {
          "output_type": "stream",
          "name": "stdout",
          "text": [
            "a:   \t34.33%\n",
            "forward:   \t14.12%\n",
            "juicy:   \t5.7%\n",
            "dry:   \t5.4%\n",
            "fresh:   \t5.34%\n",
            "--------\n",
            "\n"
          ]
        },
        {
          "output_type": "display_data",
          "data": {
            "text/plain": [
              "<IPython.core.display.HTML object>"
            ],
            "text/html": [
              "<span style=\"background-color:rgba(135,206,250,0.132971);\">wine</span> <span style=\"background-color:rgba(135,206,250,0.20901468);\">review</span> <span style=\"background-color:rgba(135,206,250,0.12453998);\">:</span> <span style=\"background-color:rgba(135,206,250,0.3632874);\">germany</span> <span style=\"background-color:rgba(135,206,250,0.10968541);\">:</span> <span style=\"background-color:rgba(135,206,250,0.21480589);\">mosel</span> <span style=\"background-color:rgba(135,206,250,0.09981204);\">:</span> <span style=\"background-color:rgba(135,206,250,0.43339807);\">riesling</span> <span style=\"background-color:rgba(135,206,250,0.11990469);\">:</span> <span style=\"background-color:rgba(135,206,250,0.10516918);\">ripe</span> <span style=\"background-color:rgba(135,206,250,0.16540883);\">yellow</span> <span style=\"background-color:rgba(135,206,250,0.2604348);\">peaches</span> <span style=\"background-color:rgba(135,206,250,0.114839);\">perfume</span> <span style=\"background-color:rgba(135,206,250,0.13614814);\">this</span> <span style=\"background-color:rgba(135,206,250,0.08495541);\">bright</span> <span style=\"background-color:rgba(135,206,250,0.07973198);\">,</span> <span style=\"background-color:rgba(135,206,250,0.094618015);\">juicy</span> <span style=\"background-color:rgba(135,206,250,0.1120144);\">,</span> <span style=\"background-color:rgba(135,206,250,0.17400374);\">fruity</span> <span style=\"background-color:rgba(135,206,250,0.4390727);\">riesling</span> <span style=\"background-color:rgba(135,206,250,0.814661);\">.</span> <span style=\"background-color:rgba(135,206,250,0.75130516);\">it</span> <span style=\"background-color:rgba(135,206,250,0.1805968);\">'</span> <span style=\"background-color:rgba(135,206,250,1.0);\">s</span> <span style=\"background-color:rgba(135,206,250,0.4714952);\">juicy</span>"
            ]
          },
          "metadata": {}
        },
        {
          "output_type": "stream",
          "name": "stdout",
          "text": [
            "and:   \t87.6%\n",
            ",:   \t10.03%\n",
            "with:   \t1.64%\n",
            "on:   \t0.36%\n",
            "yet:   \t0.14%\n",
            "--------\n",
            "\n"
          ]
        },
        {
          "output_type": "display_data",
          "data": {
            "text/plain": [
              "<IPython.core.display.HTML object>"
            ],
            "text/html": [
              "<span style=\"background-color:rgba(135,206,250,0.075364895);\">wine</span> <span style=\"background-color:rgba(135,206,250,0.12057793);\">review</span> <span style=\"background-color:rgba(135,206,250,0.075694256);\">:</span> <span style=\"background-color:rgba(135,206,250,0.21441603);\">germany</span> <span style=\"background-color:rgba(135,206,250,0.060489625);\">:</span> <span style=\"background-color:rgba(135,206,250,0.11420794);\">mosel</span> <span style=\"background-color:rgba(135,206,250,0.04669531);\">:</span> <span style=\"background-color:rgba(135,206,250,0.16881411);\">riesling</span> <span style=\"background-color:rgba(135,206,250,0.067675516);\">:</span> <span style=\"background-color:rgba(135,206,250,0.07977055);\">ripe</span> <span style=\"background-color:rgba(135,206,250,0.08045113);\">yellow</span> <span style=\"background-color:rgba(135,206,250,0.112982064);\">peaches</span> <span style=\"background-color:rgba(135,206,250,0.088561185);\">perfume</span> <span style=\"background-color:rgba(135,206,250,0.061774787);\">this</span> <span style=\"background-color:rgba(135,206,250,0.074956834);\">bright</span> <span style=\"background-color:rgba(135,206,250,0.044060826);\">,</span> <span style=\"background-color:rgba(135,206,250,0.07786333);\">juicy</span> <span style=\"background-color:rgba(135,206,250,0.06298903);\">,</span> <span style=\"background-color:rgba(135,206,250,0.1395194);\">fruity</span> <span style=\"background-color:rgba(135,206,250,0.14878418);\">riesling</span> <span style=\"background-color:rgba(135,206,250,0.3068823);\">.</span> <span style=\"background-color:rgba(135,206,250,0.17237672);\">it</span> <span style=\"background-color:rgba(135,206,250,0.06376258);\">'</span> <span style=\"background-color:rgba(135,206,250,0.35110918);\">s</span> <span style=\"background-color:rgba(135,206,250,1.0);\">juicy</span> <span style=\"background-color:rgba(135,206,250,0.2063508);\">and</span>"
            ]
          },
          "metadata": {}
        },
        {
          "output_type": "stream",
          "name": "stdout",
          "text": [
            "fruity:   \t48.73%\n",
            "fresh:   \t38.57%\n",
            "forward:   \t3.46%\n",
            "bright:   \t1.06%\n",
            "ripe:   \t0.97%\n",
            "--------\n",
            "\n"
          ]
        },
        {
          "output_type": "display_data",
          "data": {
            "text/plain": [
              "<IPython.core.display.HTML object>"
            ],
            "text/html": [
              "<span style=\"background-color:rgba(135,206,250,0.20758373);\">wine</span> <span style=\"background-color:rgba(135,206,250,0.35834733);\">review</span> <span style=\"background-color:rgba(135,206,250,0.2067217);\">:</span> <span style=\"background-color:rgba(135,206,250,0.44813448);\">germany</span> <span style=\"background-color:rgba(135,206,250,0.22449492);\">:</span> <span style=\"background-color:rgba(135,206,250,0.26493356);\">mosel</span> <span style=\"background-color:rgba(135,206,250,0.18343051);\">:</span> <span style=\"background-color:rgba(135,206,250,0.47684243);\">riesling</span> <span style=\"background-color:rgba(135,206,250,0.20310211);\">:</span> <span style=\"background-color:rgba(135,206,250,0.097507305);\">ripe</span> <span style=\"background-color:rgba(135,206,250,0.13626027);\">yellow</span> <span style=\"background-color:rgba(135,206,250,0.23607793);\">peaches</span> <span style=\"background-color:rgba(135,206,250,0.14418747);\">perfume</span> <span style=\"background-color:rgba(135,206,250,0.197796);\">this</span> <span style=\"background-color:rgba(135,206,250,0.090327986);\">bright</span> <span style=\"background-color:rgba(135,206,250,0.109458014);\">,</span> <span style=\"background-color:rgba(135,206,250,0.1051906);\">juicy</span> <span style=\"background-color:rgba(135,206,250,0.14548218);\">,</span> <span style=\"background-color:rgba(135,206,250,0.13302527);\">fruity</span> <span style=\"background-color:rgba(135,206,250,0.36036783);\">riesling</span> <span style=\"background-color:rgba(135,206,250,1.0);\">.</span> <span style=\"background-color:rgba(135,206,250,0.6038255);\">it</span> <span style=\"background-color:rgba(135,206,250,0.19546501);\">'</span> <span style=\"background-color:rgba(135,206,250,0.9559517);\">s</span> <span style=\"background-color:rgba(135,206,250,0.3901752);\">juicy</span> <span style=\"background-color:rgba(135,206,250,0.99868816);\">and</span> <span style=\"background-color:rgba(135,206,250,0.586892);\">fruity</span>"
            ]
          },
          "metadata": {}
        },
        {
          "output_type": "stream",
          "name": "stdout",
          "text": [
            ",:   \t96.05%\n",
            "on:   \t1.99%\n",
            "with:   \t0.83%\n",
            "in:   \t0.55%\n",
            "but:   \t0.26%\n",
            "--------\n",
            "\n"
          ]
        },
        {
          "output_type": "display_data",
          "data": {
            "text/plain": [
              "<IPython.core.display.HTML object>"
            ],
            "text/html": [
              "<span style=\"background-color:rgba(135,206,250,0.09882067);\">wine</span> <span style=\"background-color:rgba(135,206,250,0.23845796);\">review</span> <span style=\"background-color:rgba(135,206,250,0.10504999);\">:</span> <span style=\"background-color:rgba(135,206,250,0.34265924);\">germany</span> <span style=\"background-color:rgba(135,206,250,0.07822172);\">:</span> <span style=\"background-color:rgba(135,206,250,0.12641935);\">mosel</span> <span style=\"background-color:rgba(135,206,250,0.05843003);\">:</span> <span style=\"background-color:rgba(135,206,250,0.26811007);\">riesling</span> <span style=\"background-color:rgba(135,206,250,0.0906379);\">:</span> <span style=\"background-color:rgba(135,206,250,0.10060886);\">ripe</span> <span style=\"background-color:rgba(135,206,250,0.11438134);\">yellow</span> <span style=\"background-color:rgba(135,206,250,0.1365906);\">peaches</span> <span style=\"background-color:rgba(135,206,250,0.10385601);\">perfume</span> <span style=\"background-color:rgba(135,206,250,0.1365945);\">this</span> <span style=\"background-color:rgba(135,206,250,0.09201131);\">bright</span> <span style=\"background-color:rgba(135,206,250,0.0404997);\">,</span> <span style=\"background-color:rgba(135,206,250,0.091683306);\">juicy</span> <span style=\"background-color:rgba(135,206,250,0.04465476);\">,</span> <span style=\"background-color:rgba(135,206,250,0.14051726);\">fruity</span> <span style=\"background-color:rgba(135,206,250,0.14284313);\">riesling</span> <span style=\"background-color:rgba(135,206,250,0.4539565);\">.</span> <span style=\"background-color:rgba(135,206,250,0.23863995);\">it</span> <span style=\"background-color:rgba(135,206,250,0.04835897);\">'</span> <span style=\"background-color:rgba(135,206,250,0.3527122);\">s</span> <span style=\"background-color:rgba(135,206,250,0.5229615);\">juicy</span> <span style=\"background-color:rgba(135,206,250,0.87707186);\">and</span> <span style=\"background-color:rgba(135,206,250,1.0);\">fruity</span> <span style=\"background-color:rgba(135,206,250,0.44158226);\">,</span>"
            ]
          },
          "metadata": {}
        },
        {
          "output_type": "stream",
          "name": "stdout",
          "text": [
            "with:   \t81.42%\n",
            "but:   \t10.22%\n",
            "yet:   \t6.72%\n",
            "it:   \t0.36%\n",
            "finishing:   \t0.31%\n",
            "--------\n",
            "\n"
          ]
        },
        {
          "output_type": "display_data",
          "data": {
            "text/plain": [
              "<IPython.core.display.HTML object>"
            ],
            "text/html": [
              "<span style=\"background-color:rgba(135,206,250,0.14188655);\">wine</span> <span style=\"background-color:rgba(135,206,250,0.21603373);\">review</span> <span style=\"background-color:rgba(135,206,250,0.15548585);\">:</span> <span style=\"background-color:rgba(135,206,250,0.50512606);\">germany</span> <span style=\"background-color:rgba(135,206,250,0.14118928);\">:</span> <span style=\"background-color:rgba(135,206,250,0.21725294);\">mosel</span> <span style=\"background-color:rgba(135,206,250,0.10346525);\">:</span> <span style=\"background-color:rgba(135,206,250,0.3960737);\">riesling</span> <span style=\"background-color:rgba(135,206,250,0.11951724);\">:</span> <span style=\"background-color:rgba(135,206,250,0.13823672);\">ripe</span> <span style=\"background-color:rgba(135,206,250,0.15346245);\">yellow</span> <span style=\"background-color:rgba(135,206,250,0.21292993);\">peaches</span> <span style=\"background-color:rgba(135,206,250,0.11630936);\">perfume</span> <span style=\"background-color:rgba(135,206,250,0.11213163);\">this</span> <span style=\"background-color:rgba(135,206,250,0.13525409);\">bright</span> <span style=\"background-color:rgba(135,206,250,0.06577536);\">,</span> <span style=\"background-color:rgba(135,206,250,0.1283207);\">juicy</span> <span style=\"background-color:rgba(135,206,250,0.07719275);\">,</span> <span style=\"background-color:rgba(135,206,250,0.16979432);\">fruity</span> <span style=\"background-color:rgba(135,206,250,0.16006117);\">riesling</span> <span style=\"background-color:rgba(135,206,250,0.38283217);\">.</span> <span style=\"background-color:rgba(135,206,250,0.15484424);\">it</span> <span style=\"background-color:rgba(135,206,250,0.07286489);\">'</span> <span style=\"background-color:rgba(135,206,250,0.11987178);\">s</span> <span style=\"background-color:rgba(135,206,250,0.5037299);\">juicy</span> <span style=\"background-color:rgba(135,206,250,0.28430802);\">and</span> <span style=\"background-color:rgba(135,206,250,0.810594);\">fruity</span> <span style=\"background-color:rgba(135,206,250,1.0);\">,</span> <span style=\"background-color:rgba(135,206,250,0.5776164);\">with</span>"
            ]
          },
          "metadata": {}
        },
        {
          "output_type": "stream",
          "name": "stdout",
          "text": [
            "a:   \t97.82%\n",
            "an:   \t0.72%\n",
            "just:   \t0.27%\n",
            "hints:   \t0.25%\n",
            "streaks:   \t0.25%\n",
            "--------\n",
            "\n"
          ]
        },
        {
          "output_type": "display_data",
          "data": {
            "text/plain": [
              "<IPython.core.display.HTML object>"
            ],
            "text/html": [
              "<span style=\"background-color:rgba(135,206,250,0.08193664);\">wine</span> <span style=\"background-color:rgba(135,206,250,0.114045285);\">review</span> <span style=\"background-color:rgba(135,206,250,0.079668224);\">:</span> <span style=\"background-color:rgba(135,206,250,0.23484495);\">germany</span> <span style=\"background-color:rgba(135,206,250,0.06433117);\">:</span> <span style=\"background-color:rgba(135,206,250,0.14401108);\">mosel</span> <span style=\"background-color:rgba(135,206,250,0.049539894);\">:</span> <span style=\"background-color:rgba(135,206,250,0.1701694);\">riesling</span> <span style=\"background-color:rgba(135,206,250,0.07392856);\">:</span> <span style=\"background-color:rgba(135,206,250,0.10535352);\">ripe</span> <span style=\"background-color:rgba(135,206,250,0.08562273);\">yellow</span> <span style=\"background-color:rgba(135,206,250,0.10066682);\">peaches</span> <span style=\"background-color:rgba(135,206,250,0.077949494);\">perfume</span> <span style=\"background-color:rgba(135,206,250,0.06473139);\">this</span> <span style=\"background-color:rgba(135,206,250,0.08905969);\">bright</span> <span style=\"background-color:rgba(135,206,250,0.03711789);\">,</span> <span style=\"background-color:rgba(135,206,250,0.07750453);\">juicy</span> <span style=\"background-color:rgba(135,206,250,0.04221085);\">,</span> <span style=\"background-color:rgba(135,206,250,0.09258178);\">fruity</span> <span style=\"background-color:rgba(135,206,250,0.08945051);\">riesling</span> <span style=\"background-color:rgba(135,206,250,0.17411196);\">.</span> <span style=\"background-color:rgba(135,206,250,0.094724305);\">it</span> <span style=\"background-color:rgba(135,206,250,0.030601848);\">'</span> <span style=\"background-color:rgba(135,206,250,0.0974104);\">s</span> <span style=\"background-color:rgba(135,206,250,0.22314256);\">juicy</span> <span style=\"background-color:rgba(135,206,250,0.1631064);\">and</span> <span style=\"background-color:rgba(135,206,250,0.2721163);\">fruity</span> <span style=\"background-color:rgba(135,206,250,0.47633076);\">,</span> <span style=\"background-color:rgba(135,206,250,1.0);\">with</span> <span style=\"background-color:rgba(135,206,250,0.269896);\">a</span>"
            ]
          },
          "metadata": {}
        },
        {
          "output_type": "stream",
          "name": "stdout",
          "text": [
            "touch:   \t58.27%\n",
            "hint:   \t21.15%\n",
            "slightly:   \t2.78%\n",
            "streak:   \t2.63%\n",
            "soft:   \t1.61%\n",
            "--------\n",
            "\n"
          ]
        },
        {
          "output_type": "display_data",
          "data": {
            "text/plain": [
              "<IPython.core.display.HTML object>"
            ],
            "text/html": [
              "<span style=\"background-color:rgba(135,206,250,0.08449932);\">wine</span> <span style=\"background-color:rgba(135,206,250,0.19360435);\">review</span> <span style=\"background-color:rgba(135,206,250,0.11343118);\">:</span> <span style=\"background-color:rgba(135,206,250,0.17236282);\">germany</span> <span style=\"background-color:rgba(135,206,250,0.082839325);\">:</span> <span style=\"background-color:rgba(135,206,250,0.10559083);\">mosel</span> <span style=\"background-color:rgba(135,206,250,0.062620394);\">:</span> <span style=\"background-color:rgba(135,206,250,0.10109012);\">riesling</span> <span style=\"background-color:rgba(135,206,250,0.08677723);\">:</span> <span style=\"background-color:rgba(135,206,250,0.06980692);\">ripe</span> <span style=\"background-color:rgba(135,206,250,0.03984513);\">yellow</span> <span style=\"background-color:rgba(135,206,250,0.058485396);\">peaches</span> <span style=\"background-color:rgba(135,206,250,0.037621077);\">perfume</span> <span style=\"background-color:rgba(135,206,250,0.03811603);\">this</span> <span style=\"background-color:rgba(135,206,250,0.04255115);\">bright</span> <span style=\"background-color:rgba(135,206,250,0.04143492);\">,</span> <span style=\"background-color:rgba(135,206,250,0.042268917);\">juicy</span> <span style=\"background-color:rgba(135,206,250,0.04494027);\">,</span> <span style=\"background-color:rgba(135,206,250,0.048084114);\">fruity</span> <span style=\"background-color:rgba(135,206,250,0.060488872);\">riesling</span> <span style=\"background-color:rgba(135,206,250,0.15628825);\">.</span> <span style=\"background-color:rgba(135,206,250,0.08166208);\">it</span> <span style=\"background-color:rgba(135,206,250,0.034335293);\">'</span> <span style=\"background-color:rgba(135,206,250,0.08800318);\">s</span> <span style=\"background-color:rgba(135,206,250,0.12234488);\">juicy</span> <span style=\"background-color:rgba(135,206,250,0.1458403);\">and</span> <span style=\"background-color:rgba(135,206,250,0.21466708);\">fruity</span> <span style=\"background-color:rgba(135,206,250,0.2825904);\">,</span> <span style=\"background-color:rgba(135,206,250,1.0);\">with</span> <span style=\"background-color:rgba(135,206,250,0.34300762);\">a</span> <span style=\"background-color:rgba(135,206,250,0.18772776);\">touch</span>"
            ]
          },
          "metadata": {}
        },
        {
          "output_type": "stream",
          "name": "stdout",
          "text": [
            "of:   \t100.0%\n",
            "more:   \t0.0%\n",
            "akin:   \t0.0%\n",
            "clingy:   \t0.0%\n",
            "to:   \t0.0%\n",
            "--------\n",
            "\n"
          ]
        },
        {
          "output_type": "display_data",
          "data": {
            "text/plain": [
              "<IPython.core.display.HTML object>"
            ],
            "text/html": [
              "<span style=\"background-color:rgba(135,206,250,0.07631138);\">wine</span> <span style=\"background-color:rgba(135,206,250,0.10339432);\">review</span> <span style=\"background-color:rgba(135,206,250,0.09203797);\">:</span> <span style=\"background-color:rgba(135,206,250,0.26996166);\">germany</span> <span style=\"background-color:rgba(135,206,250,0.056482535);\">:</span> <span style=\"background-color:rgba(135,206,250,0.18687545);\">mosel</span> <span style=\"background-color:rgba(135,206,250,0.063507035);\">:</span> <span style=\"background-color:rgba(135,206,250,0.3284522);\">riesling</span> <span style=\"background-color:rgba(135,206,250,0.075934276);\">:</span> <span style=\"background-color:rgba(135,206,250,0.099140674);\">ripe</span> <span style=\"background-color:rgba(135,206,250,0.104796916);\">yellow</span> <span style=\"background-color:rgba(135,206,250,0.113911144);\">peaches</span> <span style=\"background-color:rgba(135,206,250,0.047780026);\">perfume</span> <span style=\"background-color:rgba(135,206,250,0.04494985);\">this</span> <span style=\"background-color:rgba(135,206,250,0.058075838);\">bright</span> <span style=\"background-color:rgba(135,206,250,0.034709167);\">,</span> <span style=\"background-color:rgba(135,206,250,0.06473001);\">juicy</span> <span style=\"background-color:rgba(135,206,250,0.03937977);\">,</span> <span style=\"background-color:rgba(135,206,250,0.10470431);\">fruity</span> <span style=\"background-color:rgba(135,206,250,0.100553654);\">riesling</span> <span style=\"background-color:rgba(135,206,250,0.13515851);\">.</span> <span style=\"background-color:rgba(135,206,250,0.07232431);\">it</span> <span style=\"background-color:rgba(135,206,250,0.031931568);\">'</span> <span style=\"background-color:rgba(135,206,250,0.07537676);\">s</span> <span style=\"background-color:rgba(135,206,250,0.16385674);\">juicy</span> <span style=\"background-color:rgba(135,206,250,0.109222986);\">and</span> <span style=\"background-color:rgba(135,206,250,0.26310885);\">fruity</span> <span style=\"background-color:rgba(135,206,250,0.2345197);\">,</span> <span style=\"background-color:rgba(135,206,250,0.4735035);\">with</span> <span style=\"background-color:rgba(135,206,250,0.40551072);\">a</span> <span style=\"background-color:rgba(135,206,250,1.0);\">touch</span> <span style=\"background-color:rgba(135,206,250,0.27740595);\">of</span>"
            ]
          },
          "metadata": {}
        },
        {
          "output_type": "stream",
          "name": "stdout",
          "text": [
            "sweetness:   \t70.26%\n",
            "minerality:   \t14.61%\n",
            "sweet:   \t5.58%\n",
            "honey:   \t1.85%\n",
            "sugar:   \t0.91%\n",
            "--------\n",
            "\n"
          ]
        },
        {
          "output_type": "display_data",
          "data": {
            "text/plain": [
              "<IPython.core.display.HTML object>"
            ],
            "text/html": [
              "<span style=\"background-color:rgba(135,206,250,0.11101548);\">wine</span> <span style=\"background-color:rgba(135,206,250,0.28822592);\">review</span> <span style=\"background-color:rgba(135,206,250,0.1340826);\">:</span> <span style=\"background-color:rgba(135,206,250,0.25459614);\">germany</span> <span style=\"background-color:rgba(135,206,250,0.15465006);\">:</span> <span style=\"background-color:rgba(135,206,250,0.09875472);\">mosel</span> <span style=\"background-color:rgba(135,206,250,0.09053211);\">:</span> <span style=\"background-color:rgba(135,206,250,0.10740763);\">riesling</span> <span style=\"background-color:rgba(135,206,250,0.096662566);\">:</span> <span style=\"background-color:rgba(135,206,250,0.03011965);\">ripe</span> <span style=\"background-color:rgba(135,206,250,0.032529954);\">yellow</span> <span style=\"background-color:rgba(135,206,250,0.1153844);\">peaches</span> <span style=\"background-color:rgba(135,206,250,0.07065021);\">perfume</span> <span style=\"background-color:rgba(135,206,250,0.10757899);\">this</span> <span style=\"background-color:rgba(135,206,250,0.048991643);\">bright</span> <span style=\"background-color:rgba(135,206,250,0.05340483);\">,</span> <span style=\"background-color:rgba(135,206,250,0.056220286);\">juicy</span> <span style=\"background-color:rgba(135,206,250,0.058862615);\">,</span> <span style=\"background-color:rgba(135,206,250,0.06256873);\">fruity</span> <span style=\"background-color:rgba(135,206,250,0.06753398);\">riesling</span> <span style=\"background-color:rgba(135,206,250,0.3216021);\">.</span> <span style=\"background-color:rgba(135,206,250,0.13857761);\">it</span> <span style=\"background-color:rgba(135,206,250,0.039014738);\">'</span> <span style=\"background-color:rgba(135,206,250,0.12911944);\">s</span> <span style=\"background-color:rgba(135,206,250,0.11295035);\">juicy</span> <span style=\"background-color:rgba(135,206,250,0.14067525);\">and</span> <span style=\"background-color:rgba(135,206,250,0.14108473);\">fruity</span> <span style=\"background-color:rgba(135,206,250,0.38480535);\">,</span> <span style=\"background-color:rgba(135,206,250,1.0);\">with</span> <span style=\"background-color:rgba(135,206,250,0.62962383);\">a</span> <span style=\"background-color:rgba(135,206,250,0.6123489);\">touch</span> <span style=\"background-color:rgba(135,206,250,0.8661981);\">of</span> <span style=\"background-color:rgba(135,206,250,0.3219605);\">sweetness</span>"
            ]
          },
          "metadata": {}
        },
        {
          "output_type": "stream",
          "name": "stdout",
          "text": [
            "on:   \t40.39%\n",
            "and:   \t30.92%\n",
            ".:   \t11.63%\n",
            ",:   \t6.82%\n",
            "that:   \t5.32%\n",
            "--------\n",
            "\n"
          ]
        },
        {
          "output_type": "display_data",
          "data": {
            "text/plain": [
              "<IPython.core.display.HTML object>"
            ],
            "text/html": [
              "<span style=\"background-color:rgba(135,206,250,0.0628099);\">wine</span> <span style=\"background-color:rgba(135,206,250,0.15176688);\">review</span> <span style=\"background-color:rgba(135,206,250,0.07131898);\">:</span> <span style=\"background-color:rgba(135,206,250,0.25846812);\">germany</span> <span style=\"background-color:rgba(135,206,250,0.05320144);\">:</span> <span style=\"background-color:rgba(135,206,250,0.09687833);\">mosel</span> <span style=\"background-color:rgba(135,206,250,0.0412921);\">:</span> <span style=\"background-color:rgba(135,206,250,0.20922141);\">riesling</span> <span style=\"background-color:rgba(135,206,250,0.06379799);\">:</span> <span style=\"background-color:rgba(135,206,250,0.06469891);\">ripe</span> <span style=\"background-color:rgba(135,206,250,0.07382654);\">yellow</span> <span style=\"background-color:rgba(135,206,250,0.09028487);\">peaches</span> <span style=\"background-color:rgba(135,206,250,0.058312207);\">perfume</span> <span style=\"background-color:rgba(135,206,250,0.083209746);\">this</span> <span style=\"background-color:rgba(135,206,250,0.055373598);\">bright</span> <span style=\"background-color:rgba(135,206,250,0.02483344);\">,</span> <span style=\"background-color:rgba(135,206,250,0.04997462);\">juicy</span> <span style=\"background-color:rgba(135,206,250,0.026086066);\">,</span> <span style=\"background-color:rgba(135,206,250,0.07702057);\">fruity</span> <span style=\"background-color:rgba(135,206,250,0.066364594);\">riesling</span> <span style=\"background-color:rgba(135,206,250,0.17937018);\">.</span> <span style=\"background-color:rgba(135,206,250,0.10199289);\">it</span> <span style=\"background-color:rgba(135,206,250,0.017490529);\">'</span> <span style=\"background-color:rgba(135,206,250,0.09050657);\">s</span> <span style=\"background-color:rgba(135,206,250,0.09403866);\">juicy</span> <span style=\"background-color:rgba(135,206,250,0.09094759);\">and</span> <span style=\"background-color:rgba(135,206,250,0.16494054);\">fruity</span> <span style=\"background-color:rgba(135,206,250,0.06951756);\">,</span> <span style=\"background-color:rgba(135,206,250,0.33654758);\">with</span> <span style=\"background-color:rgba(135,206,250,0.2355913);\">a</span> <span style=\"background-color:rgba(135,206,250,0.6569346);\">touch</span> <span style=\"background-color:rgba(135,206,250,0.4071696);\">of</span> <span style=\"background-color:rgba(135,206,250,1.0);\">sweetness</span> <span style=\"background-color:rgba(135,206,250,0.34359345);\">,</span>"
            ]
          },
          "metadata": {}
        },
        {
          "output_type": "stream",
          "name": "stdout",
          "text": [
            "but:   \t76.74%\n",
            "with:   \t9.44%\n",
            "it:   \t4.74%\n",
            "finishing:   \t1.71%\n",
            "lending:   \t1.53%\n",
            "--------\n",
            "\n"
          ]
        },
        {
          "output_type": "display_data",
          "data": {
            "text/plain": [
              "<IPython.core.display.HTML object>"
            ],
            "text/html": [
              "<span style=\"background-color:rgba(135,206,250,0.09982779);\">wine</span> <span style=\"background-color:rgba(135,206,250,0.15299858);\">review</span> <span style=\"background-color:rgba(135,206,250,0.12842925);\">:</span> <span style=\"background-color:rgba(135,206,250,0.40097687);\">germany</span> <span style=\"background-color:rgba(135,206,250,0.11136015);\">:</span> <span style=\"background-color:rgba(135,206,250,0.12095722);\">mosel</span> <span style=\"background-color:rgba(135,206,250,0.09097252);\">:</span> <span style=\"background-color:rgba(135,206,250,0.18976885);\">riesling</span> <span style=\"background-color:rgba(135,206,250,0.12079474);\">:</span> <span style=\"background-color:rgba(135,206,250,0.036641665);\">ripe</span> <span style=\"background-color:rgba(135,206,250,0.075534806);\">yellow</span> <span style=\"background-color:rgba(135,206,250,0.16480865);\">peaches</span> <span style=\"background-color:rgba(135,206,250,0.08358613);\">perfume</span> <span style=\"background-color:rgba(135,206,250,0.12974645);\">this</span> <span style=\"background-color:rgba(135,206,250,0.0465384);\">bright</span> <span style=\"background-color:rgba(135,206,250,0.058724713);\">,</span> <span style=\"background-color:rgba(135,206,250,0.05841132);\">juicy</span> <span style=\"background-color:rgba(135,206,250,0.0638069);\">,</span> <span style=\"background-color:rgba(135,206,250,0.08442743);\">fruity</span> <span style=\"background-color:rgba(135,206,250,0.09531676);\">riesling</span> <span style=\"background-color:rgba(135,206,250,0.21513085);\">.</span> <span style=\"background-color:rgba(135,206,250,0.094553486);\">it</span> <span style=\"background-color:rgba(135,206,250,0.034151);\">'</span> <span style=\"background-color:rgba(135,206,250,0.08549785);\">s</span> <span style=\"background-color:rgba(135,206,250,0.10075832);\">juicy</span> <span style=\"background-color:rgba(135,206,250,0.10210651);\">and</span> <span style=\"background-color:rgba(135,206,250,0.1725671);\">fruity</span> <span style=\"background-color:rgba(135,206,250,0.22536507);\">,</span> <span style=\"background-color:rgba(135,206,250,0.40396407);\">with</span> <span style=\"background-color:rgba(135,206,250,0.29608873);\">a</span> <span style=\"background-color:rgba(135,206,250,0.4248991);\">touch</span> <span style=\"background-color:rgba(135,206,250,0.34334964);\">of</span> <span style=\"background-color:rgba(135,206,250,0.691245);\">sweetness</span> <span style=\"background-color:rgba(135,206,250,1.0);\">,</span> <span style=\"background-color:rgba(135,206,250,0.50542927);\">but</span>"
            ]
          },
          "metadata": {}
        },
        {
          "output_type": "stream",
          "name": "stdout",
          "text": [
            "it:   \t44.38%\n",
            "maintains:   \t11.06%\n",
            "the:   \t5.69%\n",
            "balanced:   \t5.51%\n",
            "a:   \t5.22%\n",
            "--------\n",
            "\n"
          ]
        },
        {
          "output_type": "display_data",
          "data": {
            "text/plain": [
              "<IPython.core.display.HTML object>"
            ],
            "text/html": [
              "<span style=\"background-color:rgba(135,206,250,0.061654646);\">wine</span> <span style=\"background-color:rgba(135,206,250,0.09687115);\">review</span> <span style=\"background-color:rgba(135,206,250,0.055917744);\">:</span> <span style=\"background-color:rgba(135,206,250,0.28757718);\">germany</span> <span style=\"background-color:rgba(135,206,250,0.065366946);\">:</span> <span style=\"background-color:rgba(135,206,250,0.12147695);\">mosel</span> <span style=\"background-color:rgba(135,206,250,0.048394833);\">:</span> <span style=\"background-color:rgba(135,206,250,0.09194627);\">riesling</span> <span style=\"background-color:rgba(135,206,250,0.065732256);\">:</span> <span style=\"background-color:rgba(135,206,250,0.053651076);\">ripe</span> <span style=\"background-color:rgba(135,206,250,0.0385559);\">yellow</span> <span style=\"background-color:rgba(135,206,250,0.11963582);\">peaches</span> <span style=\"background-color:rgba(135,206,250,0.06064611);\">perfume</span> <span style=\"background-color:rgba(135,206,250,0.03127897);\">this</span> <span style=\"background-color:rgba(135,206,250,0.05413159);\">bright</span> <span style=\"background-color:rgba(135,206,250,0.028554294);\">,</span> <span style=\"background-color:rgba(135,206,250,0.06476964);\">juicy</span> <span style=\"background-color:rgba(135,206,250,0.031048102);\">,</span> <span style=\"background-color:rgba(135,206,250,0.07845828);\">fruity</span> <span style=\"background-color:rgba(135,206,250,0.045126464);\">riesling</span> <span style=\"background-color:rgba(135,206,250,0.09528846);\">.</span> <span style=\"background-color:rgba(135,206,250,0.031019226);\">it</span> <span style=\"background-color:rgba(135,206,250,0.019394692);\">'</span> <span style=\"background-color:rgba(135,206,250,0.0435215);\">s</span> <span style=\"background-color:rgba(135,206,250,0.085205555);\">juicy</span> <span style=\"background-color:rgba(135,206,250,0.038268372);\">and</span> <span style=\"background-color:rgba(135,206,250,0.10070201);\">fruity</span> <span style=\"background-color:rgba(135,206,250,0.07644104);\">,</span> <span style=\"background-color:rgba(135,206,250,0.11391372);\">with</span> <span style=\"background-color:rgba(135,206,250,0.11340572);\">a</span> <span style=\"background-color:rgba(135,206,250,0.17392385);\">touch</span> <span style=\"background-color:rgba(135,206,250,0.22078748);\">of</span> <span style=\"background-color:rgba(135,206,250,0.23636843);\">sweetness</span> <span style=\"background-color:rgba(135,206,250,0.6096837);\">,</span> <span style=\"background-color:rgba(135,206,250,1.0);\">but</span> <span style=\"background-color:rgba(135,206,250,0.3276999);\">it</span>"
            ]
          },
          "metadata": {}
        },
        {
          "output_type": "stream",
          "name": "stdout",
          "text": [
            "':   \t99.62%\n",
            "finishes:   \t0.26%\n",
            "is:   \t0.02%\n",
            "lingers:   \t0.01%\n",
            "maintains:   \t0.01%\n",
            "--------\n",
            "\n"
          ]
        },
        {
          "output_type": "display_data",
          "data": {
            "text/plain": [
              "<IPython.core.display.HTML object>"
            ],
            "text/html": [
              "<span style=\"background-color:rgba(135,206,250,0.09152307);\">wine</span> <span style=\"background-color:rgba(135,206,250,0.08646259);\">review</span> <span style=\"background-color:rgba(135,206,250,0.13506025);\">:</span> <span style=\"background-color:rgba(135,206,250,0.09926968);\">germany</span> <span style=\"background-color:rgba(135,206,250,0.10105);\">:</span> <span style=\"background-color:rgba(135,206,250,0.14181484);\">mosel</span> <span style=\"background-color:rgba(135,206,250,0.083193846);\">:</span> <span style=\"background-color:rgba(135,206,250,0.09058871);\">riesling</span> <span style=\"background-color:rgba(135,206,250,0.067730285);\">:</span> <span style=\"background-color:rgba(135,206,250,0.04939858);\">ripe</span> <span style=\"background-color:rgba(135,206,250,0.024356978);\">yellow</span> <span style=\"background-color:rgba(135,206,250,0.038552493);\">peaches</span> <span style=\"background-color:rgba(135,206,250,0.03259895);\">perfume</span> <span style=\"background-color:rgba(135,206,250,0.034669004);\">this</span> <span style=\"background-color:rgba(135,206,250,0.03204073);\">bright</span> <span style=\"background-color:rgba(135,206,250,0.036936007);\">,</span> <span style=\"background-color:rgba(135,206,250,0.040820412);\">juicy</span> <span style=\"background-color:rgba(135,206,250,0.039566997);\">,</span> <span style=\"background-color:rgba(135,206,250,0.044393957);\">fruity</span> <span style=\"background-color:rgba(135,206,250,0.04205701);\">riesling</span> <span style=\"background-color:rgba(135,206,250,0.075530894);\">.</span> <span style=\"background-color:rgba(135,206,250,0.03676697);\">it</span> <span style=\"background-color:rgba(135,206,250,0.046964847);\">'</span> <span style=\"background-color:rgba(135,206,250,0.033860438);\">s</span> <span style=\"background-color:rgba(135,206,250,0.050051894);\">juicy</span> <span style=\"background-color:rgba(135,206,250,0.054224066);\">and</span> <span style=\"background-color:rgba(135,206,250,0.056818586);\">fruity</span> <span style=\"background-color:rgba(135,206,250,0.061603878);\">,</span> <span style=\"background-color:rgba(135,206,250,0.07462464);\">with</span> <span style=\"background-color:rgba(135,206,250,0.059130196);\">a</span> <span style=\"background-color:rgba(135,206,250,0.12704451);\">touch</span> <span style=\"background-color:rgba(135,206,250,0.1025687);\">of</span> <span style=\"background-color:rgba(135,206,250,0.22116888);\">sweetness</span> <span style=\"background-color:rgba(135,206,250,0.23913674);\">,</span> <span style=\"background-color:rgba(135,206,250,0.5426904);\">but</span> <span style=\"background-color:rgba(135,206,250,1.0);\">it</span> <span style=\"background-color:rgba(135,206,250,0.12286758);\">'</span>"
            ]
          },
          "metadata": {}
        },
        {
          "output_type": "stream",
          "name": "stdout",
          "text": [
            "s:   \t100.0%\n",
            "ll:   \t0.0%\n",
            "d:   \t0.0%\n",
            "[UNK]:   \t0.0%\n",
            "re:   \t0.0%\n",
            "--------\n",
            "\n"
          ]
        },
        {
          "output_type": "display_data",
          "data": {
            "text/plain": [
              "<IPython.core.display.HTML object>"
            ],
            "text/html": [
              "<span style=\"background-color:rgba(135,206,250,0.08951673);\">wine</span> <span style=\"background-color:rgba(135,206,250,0.124691926);\">review</span> <span style=\"background-color:rgba(135,206,250,0.091776714);\">:</span> <span style=\"background-color:rgba(135,206,250,0.2518217);\">germany</span> <span style=\"background-color:rgba(135,206,250,0.065919116);\">:</span> <span style=\"background-color:rgba(135,206,250,0.15220955);\">mosel</span> <span style=\"background-color:rgba(135,206,250,0.054737907);\">:</span> <span style=\"background-color:rgba(135,206,250,0.19658391);\">riesling</span> <span style=\"background-color:rgba(135,206,250,0.08542852);\">:</span> <span style=\"background-color:rgba(135,206,250,0.09311752);\">ripe</span> <span style=\"background-color:rgba(135,206,250,0.05900925);\">yellow</span> <span style=\"background-color:rgba(135,206,250,0.0995729);\">peaches</span> <span style=\"background-color:rgba(135,206,250,0.055014167);\">perfume</span> <span style=\"background-color:rgba(135,206,250,0.043664154);\">this</span> <span style=\"background-color:rgba(135,206,250,0.06781076);\">bright</span> <span style=\"background-color:rgba(135,206,250,0.028241567);\">,</span> <span style=\"background-color:rgba(135,206,250,0.058613583);\">juicy</span> <span style=\"background-color:rgba(135,206,250,0.03093034);\">,</span> <span style=\"background-color:rgba(135,206,250,0.079876766);\">fruity</span> <span style=\"background-color:rgba(135,206,250,0.0670462);\">riesling</span> <span style=\"background-color:rgba(135,206,250,0.10250897);\">.</span> <span style=\"background-color:rgba(135,206,250,0.029207727);\">it</span> <span style=\"background-color:rgba(135,206,250,0.020049194);\">'</span> <span style=\"background-color:rgba(135,206,250,0.026064195);\">s</span> <span style=\"background-color:rgba(135,206,250,0.07553043);\">juicy</span> <span style=\"background-color:rgba(135,206,250,0.042946856);\">and</span> <span style=\"background-color:rgba(135,206,250,0.10932389);\">fruity</span> <span style=\"background-color:rgba(135,206,250,0.063843735);\">,</span> <span style=\"background-color:rgba(135,206,250,0.089727245);\">with</span> <span style=\"background-color:rgba(135,206,250,0.058602016);\">a</span> <span style=\"background-color:rgba(135,206,250,0.11198178);\">touch</span> <span style=\"background-color:rgba(135,206,250,0.115332395);\">of</span> <span style=\"background-color:rgba(135,206,250,0.28912514);\">sweetness</span> <span style=\"background-color:rgba(135,206,250,0.27681577);\">,</span> <span style=\"background-color:rgba(135,206,250,1.0);\">but</span> <span style=\"background-color:rgba(135,206,250,0.9077117);\">it</span> <span style=\"background-color:rgba(135,206,250,0.09635215);\">'</span> <span style=\"background-color:rgba(135,206,250,0.22688484);\">s</span>"
            ]
          },
          "metadata": {}
        },
        {
          "output_type": "stream",
          "name": "stdout",
          "text": [
            "a:   \t51.58%\n",
            "balanced:   \t19.56%\n",
            "refreshingly:   \t4.06%\n",
            "fresh:   \t2.07%\n",
            "already:   \t1.82%\n",
            "--------\n",
            "\n"
          ]
        },
        {
          "output_type": "display_data",
          "data": {
            "text/plain": [
              "<IPython.core.display.HTML object>"
            ],
            "text/html": [
              "<span style=\"background-color:rgba(135,206,250,0.077079065);\">wine</span> <span style=\"background-color:rgba(135,206,250,0.107464865);\">review</span> <span style=\"background-color:rgba(135,206,250,0.08315523);\">:</span> <span style=\"background-color:rgba(135,206,250,0.3022643);\">germany</span> <span style=\"background-color:rgba(135,206,250,0.07223983);\">:</span> <span style=\"background-color:rgba(135,206,250,0.18614887);\">mosel</span> <span style=\"background-color:rgba(135,206,250,0.058318112);\">:</span> <span style=\"background-color:rgba(135,206,250,0.2209964);\">riesling</span> <span style=\"background-color:rgba(135,206,250,0.08591311);\">:</span> <span style=\"background-color:rgba(135,206,250,0.111998595);\">ripe</span> <span style=\"background-color:rgba(135,206,250,0.095014565);\">yellow</span> <span style=\"background-color:rgba(135,206,250,0.10814403);\">peaches</span> <span style=\"background-color:rgba(135,206,250,0.07457356);\">perfume</span> <span style=\"background-color:rgba(135,206,250,0.058659934);\">this</span> <span style=\"background-color:rgba(135,206,250,0.087921955);\">bright</span> <span style=\"background-color:rgba(135,206,250,0.03332862);\">,</span> <span style=\"background-color:rgba(135,206,250,0.07105344);\">juicy</span> <span style=\"background-color:rgba(135,206,250,0.034896675);\">,</span> <span style=\"background-color:rgba(135,206,250,0.088307716);\">fruity</span> <span style=\"background-color:rgba(135,206,250,0.07791783);\">riesling</span> <span style=\"background-color:rgba(135,206,250,0.123660296);\">.</span> <span style=\"background-color:rgba(135,206,250,0.045789666);\">it</span> <span style=\"background-color:rgba(135,206,250,0.019370276);\">'</span> <span style=\"background-color:rgba(135,206,250,0.041348144);\">s</span> <span style=\"background-color:rgba(135,206,250,0.08775582);\">juicy</span> <span style=\"background-color:rgba(135,206,250,0.0419117);\">and</span> <span style=\"background-color:rgba(135,206,250,0.10859806);\">fruity</span> <span style=\"background-color:rgba(135,206,250,0.06478633);\">,</span> <span style=\"background-color:rgba(135,206,250,0.09602111);\">with</span> <span style=\"background-color:rgba(135,206,250,0.04405996);\">a</span> <span style=\"background-color:rgba(135,206,250,0.13626726);\">touch</span> <span style=\"background-color:rgba(135,206,250,0.15712702);\">of</span> <span style=\"background-color:rgba(135,206,250,0.28886244);\">sweetness</span> <span style=\"background-color:rgba(135,206,250,0.2664625);\">,</span> <span style=\"background-color:rgba(135,206,250,0.44508132);\">but</span> <span style=\"background-color:rgba(135,206,250,0.68697417);\">it</span> <span style=\"background-color:rgba(135,206,250,0.14363092);\">'</span> <span style=\"background-color:rgba(135,206,250,1.0);\">s</span> <span style=\"background-color:rgba(135,206,250,0.47691873);\">a</span>"
            ]
          },
          "metadata": {}
        },
        {
          "output_type": "stream",
          "name": "stdout",
          "text": [
            "bit:   \t22.89%\n",
            "straightforward:   \t14.6%\n",
            "touch:   \t13.64%\n",
            "refreshingly:   \t4.49%\n",
            "neatly:   \t4.27%\n",
            "--------\n",
            "\n"
          ]
        },
        {
          "output_type": "display_data",
          "data": {
            "text/plain": [
              "<IPython.core.display.HTML object>"
            ],
            "text/html": [
              "<span style=\"background-color:rgba(135,206,250,0.13503352);\">wine</span> <span style=\"background-color:rgba(135,206,250,0.29284412);\">review</span> <span style=\"background-color:rgba(135,206,250,0.2512342);\">:</span> <span style=\"background-color:rgba(135,206,250,0.34553647);\">germany</span> <span style=\"background-color:rgba(135,206,250,0.2169984);\">:</span> <span style=\"background-color:rgba(135,206,250,0.21493152);\">mosel</span> <span style=\"background-color:rgba(135,206,250,0.15430325);\">:</span> <span style=\"background-color:rgba(135,206,250,0.14407907);\">riesling</span> <span style=\"background-color:rgba(135,206,250,0.12927516);\">:</span> <span style=\"background-color:rgba(135,206,250,0.056866903);\">ripe</span> <span style=\"background-color:rgba(135,206,250,0.033396315);\">yellow</span> <span style=\"background-color:rgba(135,206,250,0.09497257);\">peaches</span> <span style=\"background-color:rgba(135,206,250,0.06486867);\">perfume</span> <span style=\"background-color:rgba(135,206,250,0.092176266);\">this</span> <span style=\"background-color:rgba(135,206,250,0.04416098);\">bright</span> <span style=\"background-color:rgba(135,206,250,0.06998156);\">,</span> <span style=\"background-color:rgba(135,206,250,0.050884206);\">juicy</span> <span style=\"background-color:rgba(135,206,250,0.072731);\">,</span> <span style=\"background-color:rgba(135,206,250,0.060770478);\">fruity</span> <span style=\"background-color:rgba(135,206,250,0.0668257);\">riesling</span> <span style=\"background-color:rgba(135,206,250,0.23528059);\">.</span> <span style=\"background-color:rgba(135,206,250,0.09296234);\">it</span> <span style=\"background-color:rgba(135,206,250,0.05840772);\">'</span> <span style=\"background-color:rgba(135,206,250,0.063160874);\">s</span> <span style=\"background-color:rgba(135,206,250,0.075749986);\">juicy</span> <span style=\"background-color:rgba(135,206,250,0.075735494);\">and</span> <span style=\"background-color:rgba(135,206,250,0.10317392);\">fruity</span> <span style=\"background-color:rgba(135,206,250,0.18313327);\">,</span> <span style=\"background-color:rgba(135,206,250,0.23264146);\">with</span> <span style=\"background-color:rgba(135,206,250,0.1272793);\">a</span> <span style=\"background-color:rgba(135,206,250,0.09840606);\">touch</span> <span style=\"background-color:rgba(135,206,250,0.19112231);\">of</span> <span style=\"background-color:rgba(135,206,250,0.1928417);\">sweetness</span> <span style=\"background-color:rgba(135,206,250,0.61654097);\">,</span> <span style=\"background-color:rgba(135,206,250,0.79143405);\">but</span> <span style=\"background-color:rgba(135,206,250,0.95388985);\">it</span> <span style=\"background-color:rgba(135,206,250,0.31912893);\">'</span> <span style=\"background-color:rgba(135,206,250,0.82290107);\">s</span> <span style=\"background-color:rgba(135,206,250,1.0);\">a</span> <span style=\"background-color:rgba(135,206,250,0.45659235);\">shade</span>"
            ]
          },
          "metadata": {}
        },
        {
          "output_type": "stream",
          "name": "stdout",
          "text": [
            "off:   \t97.52%\n",
            "less:   \t0.59%\n",
            "more:   \t0.56%\n",
            "of:   \t0.52%\n",
            "sweet:   \t0.15%\n",
            "--------\n",
            "\n"
          ]
        },
        {
          "output_type": "display_data",
          "data": {
            "text/plain": [
              "<IPython.core.display.HTML object>"
            ],
            "text/html": [
              "<span style=\"background-color:rgba(135,206,250,0.10613816);\">wine</span> <span style=\"background-color:rgba(135,206,250,0.13302216);\">review</span> <span style=\"background-color:rgba(135,206,250,0.15499237);\">:</span> <span style=\"background-color:rgba(135,206,250,0.120730065);\">germany</span> <span style=\"background-color:rgba(135,206,250,0.103885956);\">:</span> <span style=\"background-color:rgba(135,206,250,0.13215518);\">mosel</span> <span style=\"background-color:rgba(135,206,250,0.094867334);\">:</span> <span style=\"background-color:rgba(135,206,250,0.12652907);\">riesling</span> <span style=\"background-color:rgba(135,206,250,0.09325491);\">:</span> <span style=\"background-color:rgba(135,206,250,0.036309082);\">ripe</span> <span style=\"background-color:rgba(135,206,250,0.024089232);\">yellow</span> <span style=\"background-color:rgba(135,206,250,0.044997346);\">peaches</span> <span style=\"background-color:rgba(135,206,250,0.016941708);\">perfume</span> <span style=\"background-color:rgba(135,206,250,0.027449418);\">this</span> <span style=\"background-color:rgba(135,206,250,0.025262207);\">bright</span> <span style=\"background-color:rgba(135,206,250,0.035696678);\">,</span> <span style=\"background-color:rgba(135,206,250,0.033388466);\">juicy</span> <span style=\"background-color:rgba(135,206,250,0.040050294);\">,</span> <span style=\"background-color:rgba(135,206,250,0.037045565);\">fruity</span> <span style=\"background-color:rgba(135,206,250,0.048418026);\">riesling</span> <span style=\"background-color:rgba(135,206,250,0.08498981);\">.</span> <span style=\"background-color:rgba(135,206,250,0.035161443);\">it</span> <span style=\"background-color:rgba(135,206,250,0.02952319);\">'</span> <span style=\"background-color:rgba(135,206,250,0.044326536);\">s</span> <span style=\"background-color:rgba(135,206,250,0.050090354);\">juicy</span> <span style=\"background-color:rgba(135,206,250,0.072735555);\">and</span> <span style=\"background-color:rgba(135,206,250,0.056405317);\">fruity</span> <span style=\"background-color:rgba(135,206,250,0.076888554);\">,</span> <span style=\"background-color:rgba(135,206,250,0.07602079);\">with</span> <span style=\"background-color:rgba(135,206,250,0.05438513);\">a</span> <span style=\"background-color:rgba(135,206,250,0.09679051);\">touch</span> <span style=\"background-color:rgba(135,206,250,0.091929056);\">of</span> <span style=\"background-color:rgba(135,206,250,0.10805104);\">sweetness</span> <span style=\"background-color:rgba(135,206,250,0.15117668);\">,</span> <span style=\"background-color:rgba(135,206,250,0.15292332);\">but</span> <span style=\"background-color:rgba(135,206,250,0.4051723);\">it</span> <span style=\"background-color:rgba(135,206,250,0.100565);\">'</span> <span style=\"background-color:rgba(135,206,250,0.34870952);\">s</span> <span style=\"background-color:rgba(135,206,250,0.4567799);\">a</span> <span style=\"background-color:rgba(135,206,250,1.0);\">shade</span> <span style=\"background-color:rgba(135,206,250,0.18710499);\">off</span>"
            ]
          },
          "metadata": {}
        },
        {
          "output_type": "stream",
          "name": "stdout",
          "text": [
            "-:   \t87.05%\n",
            "dry:   \t12.87%\n",
            "in:   \t0.03%\n",
            "with:   \t0.01%\n",
            "of:   \t0.01%\n",
            "--------\n",
            "\n"
          ]
        },
        {
          "output_type": "display_data",
          "data": {
            "text/plain": [
              "<IPython.core.display.HTML object>"
            ],
            "text/html": [
              "<span style=\"background-color:rgba(135,206,250,0.041417863);\">wine</span> <span style=\"background-color:rgba(135,206,250,0.050138146);\">review</span> <span style=\"background-color:rgba(135,206,250,0.06426095);\">:</span> <span style=\"background-color:rgba(135,206,250,0.0992583);\">germany</span> <span style=\"background-color:rgba(135,206,250,0.059943434);\">:</span> <span style=\"background-color:rgba(135,206,250,0.09100659);\">mosel</span> <span style=\"background-color:rgba(135,206,250,0.055662908);\">:</span> <span style=\"background-color:rgba(135,206,250,0.09827138);\">riesling</span> <span style=\"background-color:rgba(135,206,250,0.052490193);\">:</span> <span style=\"background-color:rgba(135,206,250,0.020823391);\">ripe</span> <span style=\"background-color:rgba(135,206,250,0.017879521);\">yellow</span> <span style=\"background-color:rgba(135,206,250,0.03765719);\">peaches</span> <span style=\"background-color:rgba(135,206,250,0.013054751);\">perfume</span> <span style=\"background-color:rgba(135,206,250,0.018879864);\">this</span> <span style=\"background-color:rgba(135,206,250,0.017380029);\">bright</span> <span style=\"background-color:rgba(135,206,250,0.01831019);\">,</span> <span style=\"background-color:rgba(135,206,250,0.023508595);\">juicy</span> <span style=\"background-color:rgba(135,206,250,0.01997687);\">,</span> <span style=\"background-color:rgba(135,206,250,0.026956523);\">fruity</span> <span style=\"background-color:rgba(135,206,250,0.033751637);\">riesling</span> <span style=\"background-color:rgba(135,206,250,0.049682014);\">.</span> <span style=\"background-color:rgba(135,206,250,0.020241883);\">it</span> <span style=\"background-color:rgba(135,206,250,0.015561111);\">'</span> <span style=\"background-color:rgba(135,206,250,0.028078225);\">s</span> <span style=\"background-color:rgba(135,206,250,0.028892294);\">juicy</span> <span style=\"background-color:rgba(135,206,250,0.025819879);\">and</span> <span style=\"background-color:rgba(135,206,250,0.032894045);\">fruity</span> <span style=\"background-color:rgba(135,206,250,0.025798691);\">,</span> <span style=\"background-color:rgba(135,206,250,0.027622841);\">with</span> <span style=\"background-color:rgba(135,206,250,0.017895786);\">a</span> <span style=\"background-color:rgba(135,206,250,0.024572432);\">touch</span> <span style=\"background-color:rgba(135,206,250,0.025196457);\">of</span> <span style=\"background-color:rgba(135,206,250,0.03536239);\">sweetness</span> <span style=\"background-color:rgba(135,206,250,0.03494979);\">,</span> <span style=\"background-color:rgba(135,206,250,0.044008538);\">but</span> <span style=\"background-color:rgba(135,206,250,0.049925894);\">it</span> <span style=\"background-color:rgba(135,206,250,0.02647714);\">'</span> <span style=\"background-color:rgba(135,206,250,0.114201374);\">s</span> <span style=\"background-color:rgba(135,206,250,0.11520373);\">a</span> <span style=\"background-color:rgba(135,206,250,0.32672614);\">shade</span> <span style=\"background-color:rgba(135,206,250,1.0);\">off</span> <span style=\"background-color:rgba(135,206,250,0.03555027);\">-</span>"
            ]
          },
          "metadata": {}
        },
        {
          "output_type": "stream",
          "name": "stdout",
          "text": [
            "dry:   \t100.0%\n",
            "sweet:   \t0.0%\n",
            "putting:   \t0.0%\n",
            "gold:   \t0.0%\n",
            "[UNK]:   \t0.0%\n",
            "--------\n",
            "\n"
          ]
        },
        {
          "output_type": "display_data",
          "data": {
            "text/plain": [
              "<IPython.core.display.HTML object>"
            ],
            "text/html": [
              "<span style=\"background-color:rgba(135,206,250,0.054709956);\">wine</span> <span style=\"background-color:rgba(135,206,250,0.10095104);\">review</span> <span style=\"background-color:rgba(135,206,250,0.070463866);\">:</span> <span style=\"background-color:rgba(135,206,250,0.26213288);\">germany</span> <span style=\"background-color:rgba(135,206,250,0.06693629);\">:</span> <span style=\"background-color:rgba(135,206,250,0.20060231);\">mosel</span> <span style=\"background-color:rgba(135,206,250,0.06984733);\">:</span> <span style=\"background-color:rgba(135,206,250,0.38675424);\">riesling</span> <span style=\"background-color:rgba(135,206,250,0.09023996);\">:</span> <span style=\"background-color:rgba(135,206,250,0.06004232);\">ripe</span> <span style=\"background-color:rgba(135,206,250,0.0747847);\">yellow</span> <span style=\"background-color:rgba(135,206,250,0.06724753);\">peaches</span> <span style=\"background-color:rgba(135,206,250,0.023119995);\">perfume</span> <span style=\"background-color:rgba(135,206,250,0.028483778);\">this</span> <span style=\"background-color:rgba(135,206,250,0.029376505);\">bright</span> <span style=\"background-color:rgba(135,206,250,0.022493036);\">,</span> <span style=\"background-color:rgba(135,206,250,0.03365475);\">juicy</span> <span style=\"background-color:rgba(135,206,250,0.024504405);\">,</span> <span style=\"background-color:rgba(135,206,250,0.049304165);\">fruity</span> <span style=\"background-color:rgba(135,206,250,0.07569031);\">riesling</span> <span style=\"background-color:rgba(135,206,250,0.09468714);\">.</span> <span style=\"background-color:rgba(135,206,250,0.032247826);\">it</span> <span style=\"background-color:rgba(135,206,250,0.009511237);\">'</span> <span style=\"background-color:rgba(135,206,250,0.032968722);\">s</span> <span style=\"background-color:rgba(135,206,250,0.04445414);\">juicy</span> <span style=\"background-color:rgba(135,206,250,0.039778527);\">and</span> <span style=\"background-color:rgba(135,206,250,0.07390648);\">fruity</span> <span style=\"background-color:rgba(135,206,250,0.040981304);\">,</span> <span style=\"background-color:rgba(135,206,250,0.05512977);\">with</span> <span style=\"background-color:rgba(135,206,250,0.030230448);\">a</span> <span style=\"background-color:rgba(135,206,250,0.0541771);\">touch</span> <span style=\"background-color:rgba(135,206,250,0.052212693);\">of</span> <span style=\"background-color:rgba(135,206,250,0.12565184);\">sweetness</span> <span style=\"background-color:rgba(135,206,250,0.07942619);\">,</span> <span style=\"background-color:rgba(135,206,250,0.11707819);\">but</span> <span style=\"background-color:rgba(135,206,250,0.20755894);\">it</span> <span style=\"background-color:rgba(135,206,250,0.048703387);\">'</span> <span style=\"background-color:rgba(135,206,250,0.29768196);\">s</span> <span style=\"background-color:rgba(135,206,250,0.41890305);\">a</span> <span style=\"background-color:rgba(135,206,250,1.0);\">shade</span> <span style=\"background-color:rgba(135,206,250,0.6417841);\">off</span> <span style=\"background-color:rgba(135,206,250,0.28538367);\">-</span> <span style=\"background-color:rgba(135,206,250,0.38206872);\">dry</span>"
            ]
          },
          "metadata": {}
        },
        {
          "output_type": "stream",
          "name": "stdout",
          "text": [
            ",:   \t53.8%\n",
            ".:   \t33.51%\n",
            "in:   \t7.72%\n",
            "riesling:   \t2.35%\n",
            "on:   \t1.2%\n",
            "--------\n",
            "\n"
          ]
        },
        {
          "output_type": "display_data",
          "data": {
            "text/plain": [
              "<IPython.core.display.HTML object>"
            ],
            "text/html": [
              "<span style=\"background-color:rgba(135,206,250,0.048009835);\">wine</span> <span style=\"background-color:rgba(135,206,250,0.107527435);\">review</span> <span style=\"background-color:rgba(135,206,250,0.0631314);\">:</span> <span style=\"background-color:rgba(135,206,250,0.29234803);\">germany</span> <span style=\"background-color:rgba(135,206,250,0.050808914);\">:</span> <span style=\"background-color:rgba(135,206,250,0.103959225);\">mosel</span> <span style=\"background-color:rgba(135,206,250,0.041972134);\">:</span> <span style=\"background-color:rgba(135,206,250,0.2201758);\">riesling</span> <span style=\"background-color:rgba(135,206,250,0.0623568);\">:</span> <span style=\"background-color:rgba(135,206,250,0.057894826);\">ripe</span> <span style=\"background-color:rgba(135,206,250,0.06587045);\">yellow</span> <span style=\"background-color:rgba(135,206,250,0.07981438);\">peaches</span> <span style=\"background-color:rgba(135,206,250,0.045945454);\">perfume</span> <span style=\"background-color:rgba(135,206,250,0.062316354);\">this</span> <span style=\"background-color:rgba(135,206,250,0.045805182);\">bright</span> <span style=\"background-color:rgba(135,206,250,0.01984183);\">,</span> <span style=\"background-color:rgba(135,206,250,0.038576953);\">juicy</span> <span style=\"background-color:rgba(135,206,250,0.020610716);\">,</span> <span style=\"background-color:rgba(135,206,250,0.061902247);\">fruity</span> <span style=\"background-color:rgba(135,206,250,0.054956898);\">riesling</span> <span style=\"background-color:rgba(135,206,250,0.12940837);\">.</span> <span style=\"background-color:rgba(135,206,250,0.07337112);\">it</span> <span style=\"background-color:rgba(135,206,250,0.012035465);\">'</span> <span style=\"background-color:rgba(135,206,250,0.061291035);\">s</span> <span style=\"background-color:rgba(135,206,250,0.050719153);\">juicy</span> <span style=\"background-color:rgba(135,206,250,0.031709127);\">and</span> <span style=\"background-color:rgba(135,206,250,0.088854864);\">fruity</span> <span style=\"background-color:rgba(135,206,250,0.033454645);\">,</span> <span style=\"background-color:rgba(135,206,250,0.10215479);\">with</span> <span style=\"background-color:rgba(135,206,250,0.034481037);\">a</span> <span style=\"background-color:rgba(135,206,250,0.060988218);\">touch</span> <span style=\"background-color:rgba(135,206,250,0.041385464);\">of</span> <span style=\"background-color:rgba(135,206,250,0.117457524);\">sweetness</span> <span style=\"background-color:rgba(135,206,250,0.049211774);\">,</span> <span style=\"background-color:rgba(135,206,250,0.14504048);\">but</span> <span style=\"background-color:rgba(135,206,250,0.19917023);\">it</span> <span style=\"background-color:rgba(135,206,250,0.034480363);\">'</span> <span style=\"background-color:rgba(135,206,250,0.28595868);\">s</span> <span style=\"background-color:rgba(135,206,250,0.23687182);\">a</span> <span style=\"background-color:rgba(135,206,250,0.9377716);\">shade</span> <span style=\"background-color:rgba(135,206,250,0.41345292);\">off</span> <span style=\"background-color:rgba(135,206,250,0.35554788);\">-</span> <span style=\"background-color:rgba(135,206,250,1.0);\">dry</span> <span style=\"background-color:rgba(135,206,250,0.49512616);\">,</span>"
            ]
          },
          "metadata": {}
        },
        {
          "output_type": "stream",
          "name": "stdout",
          "text": [
            "with:   \t87.6%\n",
            "but:   \t5.55%\n",
            "finishing:   \t3.76%\n",
            "boasting:   \t1.71%\n",
            "and:   \t0.6%\n",
            "--------\n",
            "\n"
          ]
        },
        {
          "output_type": "display_data",
          "data": {
            "text/plain": [
              "<IPython.core.display.HTML object>"
            ],
            "text/html": [
              "<span style=\"background-color:rgba(135,206,250,0.06685908);\">wine</span> <span style=\"background-color:rgba(135,206,250,0.097402655);\">review</span> <span style=\"background-color:rgba(135,206,250,0.09815791);\">:</span> <span style=\"background-color:rgba(135,206,250,0.3840337);\">germany</span> <span style=\"background-color:rgba(135,206,250,0.09177768);\">:</span> <span style=\"background-color:rgba(135,206,250,0.11121709);\">mosel</span> <span style=\"background-color:rgba(135,206,250,0.07956035);\">:</span> <span style=\"background-color:rgba(135,206,250,0.16081214);\">riesling</span> <span style=\"background-color:rgba(135,206,250,0.101182215);\">:</span> <span style=\"background-color:rgba(135,206,250,0.027207013);\">ripe</span> <span style=\"background-color:rgba(135,206,250,0.058075134);\">yellow</span> <span style=\"background-color:rgba(135,206,250,0.13124275);\">peaches</span> <span style=\"background-color:rgba(135,206,250,0.06393629);\">perfume</span> <span style=\"background-color:rgba(135,206,250,0.092074566);\">this</span> <span style=\"background-color:rgba(135,206,250,0.033131067);\">bright</span> <span style=\"background-color:rgba(135,206,250,0.041085016);\">,</span> <span style=\"background-color:rgba(135,206,250,0.040132407);\">juicy</span> <span style=\"background-color:rgba(135,206,250,0.04318186);\">,</span> <span style=\"background-color:rgba(135,206,250,0.06049181);\">fruity</span> <span style=\"background-color:rgba(135,206,250,0.0652503);\">riesling</span> <span style=\"background-color:rgba(135,206,250,0.13649486);\">.</span> <span style=\"background-color:rgba(135,206,250,0.049645916);\">it</span> <span style=\"background-color:rgba(135,206,250,0.020558614);\">'</span> <span style=\"background-color:rgba(135,206,250,0.041166052);\">s</span> <span style=\"background-color:rgba(135,206,250,0.04598924);\">juicy</span> <span style=\"background-color:rgba(135,206,250,0.042609878);\">and</span> <span style=\"background-color:rgba(135,206,250,0.072934404);\">fruity</span> <span style=\"background-color:rgba(135,206,250,0.05908351);\">,</span> <span style=\"background-color:rgba(135,206,250,0.09833584);\">with</span> <span style=\"background-color:rgba(135,206,250,0.053805813);\">a</span> <span style=\"background-color:rgba(135,206,250,0.063111484);\">touch</span> <span style=\"background-color:rgba(135,206,250,0.050429408);\">of</span> <span style=\"background-color:rgba(135,206,250,0.13208342);\">sweetness</span> <span style=\"background-color:rgba(135,206,250,0.101922564);\">,</span> <span style=\"background-color:rgba(135,206,250,0.08209678);\">but</span> <span style=\"background-color:rgba(135,206,250,0.18287416);\">it</span> <span style=\"background-color:rgba(135,206,250,0.051163174);\">'</span> <span style=\"background-color:rgba(135,206,250,0.22378133);\">s</span> <span style=\"background-color:rgba(135,206,250,0.25170252);\">a</span> <span style=\"background-color:rgba(135,206,250,0.54408973);\">shade</span> <span style=\"background-color:rgba(135,206,250,0.3369404);\">off</span> <span style=\"background-color:rgba(135,206,250,0.24207671);\">-</span> <span style=\"background-color:rgba(135,206,250,0.5832965);\">dry</span> <span style=\"background-color:rgba(135,206,250,1.0);\">,</span> <span style=\"background-color:rgba(135,206,250,0.5290211);\">but</span>"
            ]
          },
          "metadata": {}
        },
        {
          "output_type": "stream",
          "name": "stdout",
          "text": [
            "balanced:   \t52.53%\n",
            "with:   \t8.64%\n",
            "finishes:   \t3.02%\n",
            "it:   \t2.97%\n",
            "anchored:   \t2.4%\n",
            "--------\n",
            "\n"
          ]
        },
        {
          "output_type": "display_data",
          "data": {
            "text/plain": [
              "<IPython.core.display.HTML object>"
            ],
            "text/html": [
              "<span style=\"background-color:rgba(135,206,250,0.0440375);\">wine</span> <span style=\"background-color:rgba(135,206,250,0.058454216);\">review</span> <span style=\"background-color:rgba(135,206,250,0.046294782);\">:</span> <span style=\"background-color:rgba(135,206,250,0.21122298);\">germany</span> <span style=\"background-color:rgba(135,206,250,0.046799213);\">:</span> <span style=\"background-color:rgba(135,206,250,0.113895535);\">mosel</span> <span style=\"background-color:rgba(135,206,250,0.039704908);\">:</span> <span style=\"background-color:rgba(135,206,250,0.23124535);\">riesling</span> <span style=\"background-color:rgba(135,206,250,0.051342934);\">:</span> <span style=\"background-color:rgba(135,206,250,0.052535493);\">ripe</span> <span style=\"background-color:rgba(135,206,250,0.066101454);\">yellow</span> <span style=\"background-color:rgba(135,206,250,0.096949704);\">peaches</span> <span style=\"background-color:rgba(135,206,250,0.03714994);\">perfume</span> <span style=\"background-color:rgba(135,206,250,0.031909686);\">this</span> <span style=\"background-color:rgba(135,206,250,0.042238493);\">bright</span> <span style=\"background-color:rgba(135,206,250,0.016142504);\">,</span> <span style=\"background-color:rgba(135,206,250,0.034311146);\">juicy</span> <span style=\"background-color:rgba(135,206,250,0.017136184);\">,</span> <span style=\"background-color:rgba(135,206,250,0.05197005);\">fruity</span> <span style=\"background-color:rgba(135,206,250,0.057267047);\">riesling</span> <span style=\"background-color:rgba(135,206,250,0.0683325);\">.</span> <span style=\"background-color:rgba(135,206,250,0.019276228);\">it</span> <span style=\"background-color:rgba(135,206,250,0.012112733);\">'</span> <span style=\"background-color:rgba(135,206,250,0.019442782);\">s</span> <span style=\"background-color:rgba(135,206,250,0.039137565);\">juicy</span> <span style=\"background-color:rgba(135,206,250,0.022390572);\">and</span> <span style=\"background-color:rgba(135,206,250,0.0640321);\">fruity</span> <span style=\"background-color:rgba(135,206,250,0.023614055);\">,</span> <span style=\"background-color:rgba(135,206,250,0.02234);\">with</span> <span style=\"background-color:rgba(135,206,250,0.024098383);\">a</span> <span style=\"background-color:rgba(135,206,250,0.035471834);\">touch</span> <span style=\"background-color:rgba(135,206,250,0.020006657);\">of</span> <span style=\"background-color:rgba(135,206,250,0.099746);\">sweetness</span> <span style=\"background-color:rgba(135,206,250,0.038448196);\">,</span> <span style=\"background-color:rgba(135,206,250,0.07142723);\">but</span> <span style=\"background-color:rgba(135,206,250,0.05193198);\">it</span> <span style=\"background-color:rgba(135,206,250,0.02695028);\">'</span> <span style=\"background-color:rgba(135,206,250,0.056430902);\">s</span> <span style=\"background-color:rgba(135,206,250,0.09115989);\">a</span> <span style=\"background-color:rgba(135,206,250,0.15864111);\">shade</span> <span style=\"background-color:rgba(135,206,250,0.094440855);\">off</span> <span style=\"background-color:rgba(135,206,250,0.12056482);\">-</span> <span style=\"background-color:rgba(135,206,250,0.29310876);\">dry</span> <span style=\"background-color:rgba(135,206,250,0.42789647);\">,</span> <span style=\"background-color:rgba(135,206,250,1.0);\">but</span> <span style=\"background-color:rgba(135,206,250,0.37049267);\">with</span>"
            ]
          },
          "metadata": {}
        },
        {
          "output_type": "stream",
          "name": "stdout",
          "text": [
            "a:   \t97.69%\n",
            "an:   \t0.8%\n",
            "plenty:   \t0.2%\n",
            "just:   \t0.17%\n",
            "enough:   \t0.11%\n",
            "--------\n",
            "\n"
          ]
        },
        {
          "output_type": "display_data",
          "data": {
            "text/plain": [
              "<IPython.core.display.HTML object>"
            ],
            "text/html": [
              "<span style=\"background-color:rgba(135,206,250,0.04712246);\">wine</span> <span style=\"background-color:rgba(135,206,250,0.059049383);\">review</span> <span style=\"background-color:rgba(135,206,250,0.055524964);\">:</span> <span style=\"background-color:rgba(135,206,250,0.23661701);\">germany</span> <span style=\"background-color:rgba(135,206,250,0.052136783);\">:</span> <span style=\"background-color:rgba(135,206,250,0.14210188);\">mosel</span> <span style=\"background-color:rgba(135,206,250,0.045663532);\">:</span> <span style=\"background-color:rgba(135,206,250,0.16987143);\">riesling</span> <span style=\"background-color:rgba(135,206,250,0.06464812);\">:</span> <span style=\"background-color:rgba(135,206,250,0.07888712);\">ripe</span> <span style=\"background-color:rgba(135,206,250,0.067399986);\">yellow</span> <span style=\"background-color:rgba(135,206,250,0.072510116);\">peaches</span> <span style=\"background-color:rgba(135,206,250,0.04764478);\">perfume</span> <span style=\"background-color:rgba(135,206,250,0.035949577);\">this</span> <span style=\"background-color:rgba(135,206,250,0.057014167);\">bright</span> <span style=\"background-color:rgba(135,206,250,0.021476777);\">,</span> <span style=\"background-color:rgba(135,206,250,0.044464495);\">juicy</span> <span style=\"background-color:rgba(135,206,250,0.022222433);\">,</span> <span style=\"background-color:rgba(135,206,250,0.0565809);\">fruity</span> <span style=\"background-color:rgba(135,206,250,0.051645134);\">riesling</span> <span style=\"background-color:rgba(135,206,250,0.069237664);\">.</span> <span style=\"background-color:rgba(135,206,250,0.02507035);\">it</span> <span style=\"background-color:rgba(135,206,250,0.011519565);\">'</span> <span style=\"background-color:rgba(135,206,250,0.024585279);\">s</span> <span style=\"background-color:rgba(135,206,250,0.04789716);\">juicy</span> <span style=\"background-color:rgba(135,206,250,0.022408172);\">and</span> <span style=\"background-color:rgba(135,206,250,0.06166531);\">fruity</span> <span style=\"background-color:rgba(135,206,250,0.026132949);\">,</span> <span style=\"background-color:rgba(135,206,250,0.029792927);\">with</span> <span style=\"background-color:rgba(135,206,250,0.019673312);\">a</span> <span style=\"background-color:rgba(135,206,250,0.041323863);\">touch</span> <span style=\"background-color:rgba(135,206,250,0.026615988);\">of</span> <span style=\"background-color:rgba(135,206,250,0.0890857);\">sweetness</span> <span style=\"background-color:rgba(135,206,250,0.035174567);\">,</span> <span style=\"background-color:rgba(135,206,250,0.06278876);\">but</span> <span style=\"background-color:rgba(135,206,250,0.054700464);\">it</span> <span style=\"background-color:rgba(135,206,250,0.019114936);\">'</span> <span style=\"background-color:rgba(135,206,250,0.06195529);\">s</span> <span style=\"background-color:rgba(135,206,250,0.037674878);\">a</span> <span style=\"background-color:rgba(135,206,250,0.15992469);\">shade</span> <span style=\"background-color:rgba(135,206,250,0.17595862);\">off</span> <span style=\"background-color:rgba(135,206,250,0.13131054);\">-</span> <span style=\"background-color:rgba(135,206,250,0.2285368);\">dry</span> <span style=\"background-color:rgba(135,206,250,0.32527715);\">,</span> <span style=\"background-color:rgba(135,206,250,0.57028466);\">but</span> <span style=\"background-color:rgba(135,206,250,1.0);\">with</span> <span style=\"background-color:rgba(135,206,250,0.25717136);\">a</span>"
            ]
          },
          "metadata": {}
        },
        {
          "output_type": "stream",
          "name": "stdout",
          "text": [
            "hint:   \t23.03%\n",
            "touch:   \t19.94%\n",
            "lingering:   \t10.78%\n",
            "zesty:   \t4.53%\n",
            "streak:   \t4.14%\n",
            "--------\n",
            "\n"
          ]
        },
        {
          "output_type": "display_data",
          "data": {
            "text/plain": [
              "<IPython.core.display.HTML object>"
            ],
            "text/html": [
              "<span style=\"background-color:rgba(135,206,250,0.07709534);\">wine</span> <span style=\"background-color:rgba(135,206,250,0.1001005);\">review</span> <span style=\"background-color:rgba(135,206,250,0.13165505);\">:</span> <span style=\"background-color:rgba(135,206,250,0.21538867);\">germany</span> <span style=\"background-color:rgba(135,206,250,0.13439527);\">:</span> <span style=\"background-color:rgba(135,206,250,0.14604607);\">mosel</span> <span style=\"background-color:rgba(135,206,250,0.11253965);\">:</span> <span style=\"background-color:rgba(135,206,250,0.09636009);\">riesling</span> <span style=\"background-color:rgba(135,206,250,0.08657817);\">:</span> <span style=\"background-color:rgba(135,206,250,0.018158527);\">ripe</span> <span style=\"background-color:rgba(135,206,250,0.015697889);\">yellow</span> <span style=\"background-color:rgba(135,206,250,0.051814843);\">peaches</span> <span style=\"background-color:rgba(135,206,250,0.02370895);\">perfume</span> <span style=\"background-color:rgba(135,206,250,0.038489025);\">this</span> <span style=\"background-color:rgba(135,206,250,0.021611867);\">bright</span> <span style=\"background-color:rgba(135,206,250,0.034286357);\">,</span> <span style=\"background-color:rgba(135,206,250,0.032912735);\">juicy</span> <span style=\"background-color:rgba(135,206,250,0.037714876);\">,</span> <span style=\"background-color:rgba(135,206,250,0.040499125);\">fruity</span> <span style=\"background-color:rgba(135,206,250,0.038364667);\">riesling</span> <span style=\"background-color:rgba(135,206,250,0.08126264);\">.</span> <span style=\"background-color:rgba(135,206,250,0.027008947);\">it</span> <span style=\"background-color:rgba(135,206,250,0.019007778);\">'</span> <span style=\"background-color:rgba(135,206,250,0.027371304);\">s</span> <span style=\"background-color:rgba(135,206,250,0.04013301);\">juicy</span> <span style=\"background-color:rgba(135,206,250,0.043561082);\">and</span> <span style=\"background-color:rgba(135,206,250,0.048619285);\">fruity</span> <span style=\"background-color:rgba(135,206,250,0.049219497);\">,</span> <span style=\"background-color:rgba(135,206,250,0.052233852);\">with</span> <span style=\"background-color:rgba(135,206,250,0.028059108);\">a</span> <span style=\"background-color:rgba(135,206,250,0.043048915);\">touch</span> <span style=\"background-color:rgba(135,206,250,0.03823417);\">of</span> <span style=\"background-color:rgba(135,206,250,0.052046232);\">sweetness</span> <span style=\"background-color:rgba(135,206,250,0.060887393);\">,</span> <span style=\"background-color:rgba(135,206,250,0.07030687);\">but</span> <span style=\"background-color:rgba(135,206,250,0.061519083);\">it</span> <span style=\"background-color:rgba(135,206,250,0.029906377);\">'</span> <span style=\"background-color:rgba(135,206,250,0.07347242);\">s</span> <span style=\"background-color:rgba(135,206,250,0.08410483);\">a</span> <span style=\"background-color:rgba(135,206,250,0.15852349);\">shade</span> <span style=\"background-color:rgba(135,206,250,0.09409416);\">off</span> <span style=\"background-color:rgba(135,206,250,0.06863136);\">-</span> <span style=\"background-color:rgba(135,206,250,0.08684897);\">dry</span> <span style=\"background-color:rgba(135,206,250,0.23242009);\">,</span> <span style=\"background-color:rgba(135,206,250,0.3403693);\">but</span> <span style=\"background-color:rgba(135,206,250,1.0);\">with</span> <span style=\"background-color:rgba(135,206,250,0.98212975);\">a</span> <span style=\"background-color:rgba(135,206,250,0.31990108);\">long</span>"
            ]
          },
          "metadata": {}
        },
        {
          "output_type": "stream",
          "name": "stdout",
          "text": [
            ",:   \t95.85%\n",
            "finish:   \t3.0%\n",
            "-:   \t1.02%\n",
            "lingering:   \t0.02%\n",
            "edge:   \t0.01%\n",
            "--------\n",
            "\n"
          ]
        },
        {
          "output_type": "display_data",
          "data": {
            "text/plain": [
              "<IPython.core.display.HTML object>"
            ],
            "text/html": [
              "<span style=\"background-color:rgba(135,206,250,0.035697836);\">wine</span> <span style=\"background-color:rgba(135,206,250,0.07124876);\">review</span> <span style=\"background-color:rgba(135,206,250,0.04937785);\">:</span> <span style=\"background-color:rgba(135,206,250,0.2259208);\">germany</span> <span style=\"background-color:rgba(135,206,250,0.04113904);\">:</span> <span style=\"background-color:rgba(135,206,250,0.08695821);\">mosel</span> <span style=\"background-color:rgba(135,206,250,0.035785194);\">:</span> <span style=\"background-color:rgba(135,206,250,0.17380424);\">riesling</span> <span style=\"background-color:rgba(135,206,250,0.05175373);\">:</span> <span style=\"background-color:rgba(135,206,250,0.044928547);\">ripe</span> <span style=\"background-color:rgba(135,206,250,0.05117298);\">yellow</span> <span style=\"background-color:rgba(135,206,250,0.05801261);\">peaches</span> <span style=\"background-color:rgba(135,206,250,0.03319203);\">perfume</span> <span style=\"background-color:rgba(135,206,250,0.04162963);\">this</span> <span style=\"background-color:rgba(135,206,250,0.03269285);\">bright</span> <span style=\"background-color:rgba(135,206,250,0.014872697);\">,</span> <span style=\"background-color:rgba(135,206,250,0.028123656);\">juicy</span> <span style=\"background-color:rgba(135,206,250,0.015363915);\">,</span> <span style=\"background-color:rgba(135,206,250,0.045561075);\">fruity</span> <span style=\"background-color:rgba(135,206,250,0.040575903);\">riesling</span> <span style=\"background-color:rgba(135,206,250,0.08512681);\">.</span> <span style=\"background-color:rgba(135,206,250,0.047098793);\">it</span> <span style=\"background-color:rgba(135,206,250,0.008952121);\">'</span> <span style=\"background-color:rgba(135,206,250,0.04421627);\">s</span> <span style=\"background-color:rgba(135,206,250,0.03466591);\">juicy</span> <span style=\"background-color:rgba(135,206,250,0.022961996);\">and</span> <span style=\"background-color:rgba(135,206,250,0.061322216);\">fruity</span> <span style=\"background-color:rgba(135,206,250,0.022805147);\">,</span> <span style=\"background-color:rgba(135,206,250,0.064217836);\">with</span> <span style=\"background-color:rgba(135,206,250,0.02147909);\">a</span> <span style=\"background-color:rgba(135,206,250,0.034116477);\">touch</span> <span style=\"background-color:rgba(135,206,250,0.024775656);\">of</span> <span style=\"background-color:rgba(135,206,250,0.06920968);\">sweetness</span> <span style=\"background-color:rgba(135,206,250,0.03010012);\">,</span> <span style=\"background-color:rgba(135,206,250,0.07143817);\">but</span> <span style=\"background-color:rgba(135,206,250,0.09659265);\">it</span> <span style=\"background-color:rgba(135,206,250,0.018191902);\">'</span> <span style=\"background-color:rgba(135,206,250,0.10336871);\">s</span> <span style=\"background-color:rgba(135,206,250,0.05246162);\">a</span> <span style=\"background-color:rgba(135,206,250,0.18270612);\">shade</span> <span style=\"background-color:rgba(135,206,250,0.09515478);\">off</span> <span style=\"background-color:rgba(135,206,250,0.053935617);\">-</span> <span style=\"background-color:rgba(135,206,250,0.1759708);\">dry</span> <span style=\"background-color:rgba(135,206,250,0.08178833);\">,</span> <span style=\"background-color:rgba(135,206,250,0.38856196);\">but</span> <span style=\"background-color:rgba(135,206,250,0.596374);\">with</span> <span style=\"background-color:rgba(135,206,250,0.4981306);\">a</span> <span style=\"background-color:rgba(135,206,250,1.0);\">long</span> <span style=\"background-color:rgba(135,206,250,0.31034297);\">,</span>"
            ]
          },
          "metadata": {}
        },
        {
          "output_type": "stream",
          "name": "stdout",
          "text": [
            "spicy:   \t30.32%\n",
            "citrusy:   \t8.61%\n",
            "lemony:   \t8.53%\n",
            "zesty:   \t5.56%\n",
            "mineral:   \t5.25%\n",
            "--------\n",
            "\n"
          ]
        },
        {
          "output_type": "display_data",
          "data": {
            "text/plain": [
              "<IPython.core.display.HTML object>"
            ],
            "text/html": [
              "<span style=\"background-color:rgba(135,206,250,0.04668883);\">wine</span> <span style=\"background-color:rgba(135,206,250,0.06833589);\">review</span> <span style=\"background-color:rgba(135,206,250,0.07213659);\">:</span> <span style=\"background-color:rgba(135,206,250,0.16642682);\">germany</span> <span style=\"background-color:rgba(135,206,250,0.08968059);\">:</span> <span style=\"background-color:rgba(135,206,250,0.13138928);\">mosel</span> <span style=\"background-color:rgba(135,206,250,0.08914901);\">:</span> <span style=\"background-color:rgba(135,206,250,0.17334941);\">riesling</span> <span style=\"background-color:rgba(135,206,250,0.08461561);\">:</span> <span style=\"background-color:rgba(135,206,250,0.03191213);\">ripe</span> <span style=\"background-color:rgba(135,206,250,0.034693692);\">yellow</span> <span style=\"background-color:rgba(135,206,250,0.067384854);\">peaches</span> <span style=\"background-color:rgba(135,206,250,0.028857155);\">perfume</span> <span style=\"background-color:rgba(135,206,250,0.035073716);\">this</span> <span style=\"background-color:rgba(135,206,250,0.01951696);\">bright</span> <span style=\"background-color:rgba(135,206,250,0.026000889);\">,</span> <span style=\"background-color:rgba(135,206,250,0.022639731);\">juicy</span> <span style=\"background-color:rgba(135,206,250,0.02776693);\">,</span> <span style=\"background-color:rgba(135,206,250,0.03461306);\">fruity</span> <span style=\"background-color:rgba(135,206,250,0.049978256);\">riesling</span> <span style=\"background-color:rgba(135,206,250,0.07697857);\">.</span> <span style=\"background-color:rgba(135,206,250,0.024962021);\">it</span> <span style=\"background-color:rgba(135,206,250,0.014520367);\">'</span> <span style=\"background-color:rgba(135,206,250,0.026436413);\">s</span> <span style=\"background-color:rgba(135,206,250,0.025660554);\">juicy</span> <span style=\"background-color:rgba(135,206,250,0.026215464);\">and</span> <span style=\"background-color:rgba(135,206,250,0.04039799);\">fruity</span> <span style=\"background-color:rgba(135,206,250,0.03303857);\">,</span> <span style=\"background-color:rgba(135,206,250,0.028463397);\">with</span> <span style=\"background-color:rgba(135,206,250,0.02185884);\">a</span> <span style=\"background-color:rgba(135,206,250,0.027297005);\">touch</span> <span style=\"background-color:rgba(135,206,250,0.03393964);\">of</span> <span style=\"background-color:rgba(135,206,250,0.062385205);\">sweetness</span> <span style=\"background-color:rgba(135,206,250,0.04172334);\">,</span> <span style=\"background-color:rgba(135,206,250,0.054740936);\">but</span> <span style=\"background-color:rgba(135,206,250,0.045521338);\">it</span> <span style=\"background-color:rgba(135,206,250,0.023050098);\">'</span> <span style=\"background-color:rgba(135,206,250,0.053935062);\">s</span> <span style=\"background-color:rgba(135,206,250,0.046265468);\">a</span> <span style=\"background-color:rgba(135,206,250,0.07880452);\">shade</span> <span style=\"background-color:rgba(135,206,250,0.07287901);\">off</span> <span style=\"background-color:rgba(135,206,250,0.026150696);\">-</span> <span style=\"background-color:rgba(135,206,250,0.08562622);\">dry</span> <span style=\"background-color:rgba(135,206,250,0.10927915);\">,</span> <span style=\"background-color:rgba(135,206,250,0.15711893);\">but</span> <span style=\"background-color:rgba(135,206,250,0.41424227);\">with</span> <span style=\"background-color:rgba(135,206,250,0.42833617);\">a</span> <span style=\"background-color:rgba(135,206,250,1.0);\">long</span> <span style=\"background-color:rgba(135,206,250,0.4617941);\">,</span> <span style=\"background-color:rgba(135,206,250,0.2725426);\">citrusy</span>"
            ]
          },
          "metadata": {}
        },
        {
          "output_type": "stream",
          "name": "stdout",
          "text": [
            "finish:   \t99.98%\n",
            "acidity:   \t0.01%\n",
            "edge:   \t0.01%\n",
            "streak:   \t0.0%\n",
            "kick:   \t0.0%\n",
            "--------\n",
            "\n"
          ]
        },
        {
          "output_type": "display_data",
          "data": {
            "text/plain": [
              "<IPython.core.display.HTML object>"
            ],
            "text/html": [
              "<span style=\"background-color:rgba(135,206,250,0.068160735);\">wine</span> <span style=\"background-color:rgba(135,206,250,0.116536684);\">review</span> <span style=\"background-color:rgba(135,206,250,0.11852788);\">:</span> <span style=\"background-color:rgba(135,206,250,0.27446544);\">germany</span> <span style=\"background-color:rgba(135,206,250,0.11519373);\">:</span> <span style=\"background-color:rgba(135,206,250,0.105947696);\">mosel</span> <span style=\"background-color:rgba(135,206,250,0.07956878);\">:</span> <span style=\"background-color:rgba(135,206,250,0.10354011);\">riesling</span> <span style=\"background-color:rgba(135,206,250,0.083520025);\">:</span> <span style=\"background-color:rgba(135,206,250,0.04646042);\">ripe</span> <span style=\"background-color:rgba(135,206,250,0.022823092);\">yellow</span> <span style=\"background-color:rgba(135,206,250,0.06357916);\">peaches</span> <span style=\"background-color:rgba(135,206,250,0.037810482);\">perfume</span> <span style=\"background-color:rgba(135,206,250,0.030601759);\">this</span> <span style=\"background-color:rgba(135,206,250,0.043857697);\">bright</span> <span style=\"background-color:rgba(135,206,250,0.024483493);\">,</span> <span style=\"background-color:rgba(135,206,250,0.033682454);\">juicy</span> <span style=\"background-color:rgba(135,206,250,0.024920667);\">,</span> <span style=\"background-color:rgba(135,206,250,0.039986312);\">fruity</span> <span style=\"background-color:rgba(135,206,250,0.037502225);\">riesling</span> <span style=\"background-color:rgba(135,206,250,0.09860464);\">.</span> <span style=\"background-color:rgba(135,206,250,0.036871452);\">it</span> <span style=\"background-color:rgba(135,206,250,0.02035051);\">'</span> <span style=\"background-color:rgba(135,206,250,0.042817164);\">s</span> <span style=\"background-color:rgba(135,206,250,0.040844847);\">juicy</span> <span style=\"background-color:rgba(135,206,250,0.030888308);\">and</span> <span style=\"background-color:rgba(135,206,250,0.053131845);\">fruity</span> <span style=\"background-color:rgba(135,206,250,0.038432408);\">,</span> <span style=\"background-color:rgba(135,206,250,0.094226666);\">with</span> <span style=\"background-color:rgba(135,206,250,0.03756208);\">a</span> <span style=\"background-color:rgba(135,206,250,0.04529391);\">touch</span> <span style=\"background-color:rgba(135,206,250,0.03973955);\">of</span> <span style=\"background-color:rgba(135,206,250,0.06895385);\">sweetness</span> <span style=\"background-color:rgba(135,206,250,0.05478304);\">,</span> <span style=\"background-color:rgba(135,206,250,0.11502491);\">but</span> <span style=\"background-color:rgba(135,206,250,0.08137268);\">it</span> <span style=\"background-color:rgba(135,206,250,0.043132875);\">'</span> <span style=\"background-color:rgba(135,206,250,0.115683675);\">s</span> <span style=\"background-color:rgba(135,206,250,0.101668015);\">a</span> <span style=\"background-color:rgba(135,206,250,0.14461215);\">shade</span> <span style=\"background-color:rgba(135,206,250,0.11306777);\">off</span> <span style=\"background-color:rgba(135,206,250,0.065244675);\">-</span> <span style=\"background-color:rgba(135,206,250,0.1614063);\">dry</span> <span style=\"background-color:rgba(135,206,250,0.2000014);\">,</span> <span style=\"background-color:rgba(135,206,250,0.4042926);\">but</span> <span style=\"background-color:rgba(135,206,250,0.733366);\">with</span> <span style=\"background-color:rgba(135,206,250,0.72031516);\">a</span> <span style=\"background-color:rgba(135,206,250,0.631019);\">long</span> <span style=\"background-color:rgba(135,206,250,0.74204034);\">,</span> <span style=\"background-color:rgba(135,206,250,1.0);\">citrusy</span> <span style=\"background-color:rgba(135,206,250,0.5980852);\">finish</span>"
            ]
          },
          "metadata": {}
        },
        {
          "output_type": "stream",
          "name": "stdout",
          "text": [
            ".:   \t99.89%\n",
            "that:   \t0.07%\n",
            "of:   \t0.02%\n",
            ",:   \t0.01%\n",
            "laced:   \t0.0%\n",
            "--------\n",
            "\n"
          ]
        },
        {
          "output_type": "display_data",
          "data": {
            "text/plain": [
              "<IPython.core.display.HTML object>"
            ],
            "text/html": [
              "<span style=\"background-color:rgba(135,206,250,0.17032835);\">wine</span> <span style=\"background-color:rgba(135,206,250,0.18459651);\">review</span> <span style=\"background-color:rgba(135,206,250,0.47623816);\">:</span> <span style=\"background-color:rgba(135,206,250,0.8781091);\">germany</span> <span style=\"background-color:rgba(135,206,250,0.5189783);\">:</span> <span style=\"background-color:rgba(135,206,250,0.41043535);\">mosel</span> <span style=\"background-color:rgba(135,206,250,0.44719008);\">:</span> <span style=\"background-color:rgba(135,206,250,0.63621473);\">riesling</span> <span style=\"background-color:rgba(135,206,250,0.25928247);\">:</span> <span style=\"background-color:rgba(135,206,250,0.091789946);\">ripe</span> <span style=\"background-color:rgba(135,206,250,0.10048613);\">yellow</span> <span style=\"background-color:rgba(135,206,250,0.17692359);\">peaches</span> <span style=\"background-color:rgba(135,206,250,0.09427777);\">perfume</span> <span style=\"background-color:rgba(135,206,250,0.15176332);\">this</span> <span style=\"background-color:rgba(135,206,250,0.08883072);\">bright</span> <span style=\"background-color:rgba(135,206,250,0.056715567);\">,</span> <span style=\"background-color:rgba(135,206,250,0.08027498);\">juicy</span> <span style=\"background-color:rgba(135,206,250,0.058600202);\">,</span> <span style=\"background-color:rgba(135,206,250,0.10535019);\">fruity</span> <span style=\"background-color:rgba(135,206,250,0.11836008);\">riesling</span> <span style=\"background-color:rgba(135,206,250,0.17378402);\">.</span> <span style=\"background-color:rgba(135,206,250,0.08405206);\">it</span> <span style=\"background-color:rgba(135,206,250,0.032351006);\">'</span> <span style=\"background-color:rgba(135,206,250,0.06988988);\">s</span> <span style=\"background-color:rgba(135,206,250,0.0943518);\">juicy</span> <span style=\"background-color:rgba(135,206,250,0.06821106);\">and</span> <span style=\"background-color:rgba(135,206,250,0.12893035);\">fruity</span> <span style=\"background-color:rgba(135,206,250,0.0845893);\">,</span> <span style=\"background-color:rgba(135,206,250,0.12439643);\">with</span> <span style=\"background-color:rgba(135,206,250,0.06747845);\">a</span> <span style=\"background-color:rgba(135,206,250,0.09099097);\">touch</span> <span style=\"background-color:rgba(135,206,250,0.07165451);\">of</span> <span style=\"background-color:rgba(135,206,250,0.18472524);\">sweetness</span> <span style=\"background-color:rgba(135,206,250,0.11178442);\">,</span> <span style=\"background-color:rgba(135,206,250,0.17082545);\">but</span> <span style=\"background-color:rgba(135,206,250,0.22023293);\">it</span> <span style=\"background-color:rgba(135,206,250,0.08094547);\">'</span> <span style=\"background-color:rgba(135,206,250,0.15620486);\">s</span> <span style=\"background-color:rgba(135,206,250,0.12882511);\">a</span> <span style=\"background-color:rgba(135,206,250,0.2800469);\">shade</span> <span style=\"background-color:rgba(135,206,250,0.1559469);\">off</span> <span style=\"background-color:rgba(135,206,250,0.11735565);\">-</span> <span style=\"background-color:rgba(135,206,250,0.25799608);\">dry</span> <span style=\"background-color:rgba(135,206,250,0.22220393);\">,</span> <span style=\"background-color:rgba(135,206,250,0.33633155);\">but</span> <span style=\"background-color:rgba(135,206,250,0.342055);\">with</span> <span style=\"background-color:rgba(135,206,250,0.25517872);\">a</span> <span style=\"background-color:rgba(135,206,250,0.37709418);\">long</span> <span style=\"background-color:rgba(135,206,250,0.35377705);\">,</span> <span style=\"background-color:rgba(135,206,250,0.5438007);\">citrusy</span> <span style=\"background-color:rgba(135,206,250,1.0);\">finish</span> <span style=\"background-color:rgba(135,206,250,0.9584879);\">.</span>"
            ]
          },
          "metadata": {}
        },
        {
          "output_type": "stream",
          "name": "stdout",
          "text": [
            ":   \t66.77%\n",
            "drink:   \t32.99%\n",
            "it:   \t0.12%\n",
            "enjoy:   \t0.05%\n",
            "a:   \t0.03%\n",
            "--------\n",
            "\n"
          ]
        }
      ]
    }
  ]
}